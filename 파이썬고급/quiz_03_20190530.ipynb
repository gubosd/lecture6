{
 "cells": [
  {
   "cell_type": "markdown",
   "metadata": {},
   "source": [
    "```\n",
    "퀴즈 3 (2019.5.30)\n",
    "\n",
    "1. 강의 홈페이지에서 \"winequality-red.csv\" 파일을 다운받자.\n",
    "이 파일을 python 의 open() 함수를 이용해 읽어, Numpy array 로 변환하자.\n",
    "(최종 array 이름을 wine 으로 하자)\n",
    "\n",
    "2. wine 에서 첫번째 속성인 \"fixed acidity\" 의 꺾은선 그래프를 그리고 평균을 구하시오.\n",
    "\n",
    "3. wine 데이터를 실제 데이터 부분인 X 와 목표값 부분인 y 로 분리하시오.\n",
    "(마지막 속성이 y, 나머지 부분이 X 이다)\n",
    "\n",
    "4. \"fixed acidity\", \"density\", \"pH\", \"alcohol\", \"quality\" 의 다섯가지\n",
    "속성만 이용하려고 한다. wine 데이터에서 이 부분을 잘라내시오.\n",
    "\n",
    "5. 마지막 속성인 quality 는 품질 점수를 나타내는 값이다. 어떤 값들이 있는지 표시하시오.\n",
    "그리고, 품질값이 5인 데이터를 뽑아내시오.\n",
    "\n",
    "6. (도전과제) 여러분이 불러온 이미지에서 빨간색이 많아지도록 변경해서 이미지를 출력해 보시오.\n",
    "=> pic 으로 불러왔다면, pic[:,:,0] 부분이 빨간색 채널이다.\n",
    "=> 이 값을 증가시키되 1을 넘어서는 부분은 1로 수정하여야 한다.\n",
    "```"
   ]
  },
  {
   "cell_type": "code",
   "execution_count": 1,
   "metadata": {},
   "outputs": [],
   "source": [
    "import numpy as np\n",
    "import matplotlib.pyplot as plt"
   ]
  },
  {
   "cell_type": "code",
   "execution_count": 7,
   "metadata": {},
   "outputs": [
    {
     "data": {
      "text/plain": [
       "(1599, 12)"
      ]
     },
     "execution_count": 7,
     "metadata": {},
     "output_type": "execute_result"
    }
   ],
   "source": [
    "data = []\n",
    "\n",
    "f = open('winequality-red.csv')\n",
    "\n",
    "line = f.readline()\n",
    "features = line.strip().split(';')\n",
    "\n",
    "for line in f:\n",
    "    k = line.strip().split(';')\n",
    "    k = [float(i) for i in k]\n",
    "    data.append(k)\n",
    "\n",
    "f.close()\n",
    "\n",
    "wine = np.array(data)\n",
    "wine.shape"
   ]
  },
  {
   "cell_type": "code",
   "execution_count": 9,
   "metadata": {},
   "outputs": [
    {
     "data": {
      "text/plain": [
       "[<matplotlib.lines.Line2D at 0x1c9cbef42e8>]"
      ]
     },
     "execution_count": 9,
     "metadata": {},
     "output_type": "execute_result"
    },
    {
     "data": {
      "image/png": "[encoded data removed]",
      "text/plain": [
       "<Figure size 432x288 with 1 Axes>"
      ]
     },
     "metadata": {
      "needs_background": "light"
     },
     "output_type": "display_data"
    }
   ],
   "source": [
    "plt.plot(wine[:,0])"
   ]
  },
  {
   "cell_type": "code",
   "execution_count": 26,
   "metadata": {},
   "outputs": [
    {
     "data": {
      "text/plain": [
       "8.31963727329581"
      ]
     },
     "execution_count": 26,
     "metadata": {},
     "output_type": "execute_result"
    }
   ],
   "source": [
    "wine[:,0].mean()\n",
    "np.mean(wine[:,0])\n",
    "wine[:,0].sum() / len(wine)"
   ]
  },
  {
   "cell_type": "code",
   "execution_count": 27,
   "metadata": {},
   "outputs": [
    {
     "data": {
      "text/plain": [
       "((1599, 11), (1599,))"
      ]
     },
     "execution_count": 27,
     "metadata": {},
     "output_type": "execute_result"
    }
   ],
   "source": [
    "X = wine[:, :-1]\n",
    "y = wine[:,-1]\n",
    "\n",
    "X.shape, y.shape"
   ]
  },
  {
   "cell_type": "code",
   "execution_count": 12,
   "metadata": {},
   "outputs": [
    {
     "data": {
      "text/plain": [
       "array([[ 7.4    ,  0.9978 ,  3.51   ,  9.4    ,  5.     ],\n",
       "       [ 7.8    ,  0.9968 ,  3.2    ,  9.8    ,  5.     ],\n",
       "       [ 7.8    ,  0.997  ,  3.26   ,  9.8    ,  5.     ],\n",
       "       ...,\n",
       "       [ 6.3    ,  0.99574,  3.42   , 11.     ,  6.     ],\n",
       "       [ 5.9    ,  0.99547,  3.57   , 10.2    ,  5.     ],\n",
       "       [ 6.     ,  0.99549,  3.39   , 11.     ,  6.     ]])"
      ]
     },
     "execution_count": 12,
     "metadata": {},
     "output_type": "execute_result"
    }
   ],
   "source": [
    "#0 7 8 10 11\n",
    "wine[:,[0,7,8,10,11]]"
   ]
  },
  {
   "cell_type": "code",
   "execution_count": 15,
   "metadata": {},
   "outputs": [
    {
     "data": {
      "text/plain": [
       "{3.0, 4.0, 5.0, 6.0, 7.0, 8.0}"
      ]
     },
     "execution_count": 15,
     "metadata": {},
     "output_type": "execute_result"
    }
   ],
   "source": [
    "#np.unique(wine[:, -1])\n",
    "set(wine[:,-1])\n",
    "set(list(wine[:,-1]))"
   ]
  },
  {
   "cell_type": "code",
   "execution_count": 16,
   "metadata": {},
   "outputs": [
    {
     "data": {
      "text/plain": [
       "array([[ 7.4  ,  0.7  ,  0.   , ...,  0.56 ,  9.4  ,  5.   ],\n",
       "       [ 7.8  ,  0.88 ,  0.   , ...,  0.68 ,  9.8  ,  5.   ],\n",
       "       [ 7.8  ,  0.76 ,  0.04 , ...,  0.65 ,  9.8  ,  5.   ],\n",
       "       ...,\n",
       "       [ 6.6  ,  0.725,  0.2  , ...,  0.54 ,  9.2  ,  5.   ],\n",
       "       [ 6.2  ,  0.6  ,  0.08 , ...,  0.58 , 10.5  ,  5.   ],\n",
       "       [ 5.9  ,  0.645,  0.12 , ...,  0.71 , 10.2  ,  5.   ]])"
      ]
     },
     "execution_count": 16,
     "metadata": {},
     "output_type": "execute_result"
    }
   ],
   "source": [
    "wine[wine[:,-1]==5]"
   ]
  },
  {
   "cell_type": "code",
   "execution_count": 17,
   "metadata": {},
   "outputs": [
    {
     "data": {
      "text/plain": [
       "(186, 199, 3)"
      ]
     },
     "execution_count": 17,
     "metadata": {},
     "output_type": "execute_result"
    }
   ],
   "source": [
    "pic = plt.imread('lucy.png')\n",
    "pic.shape"
   ]
  },
  {
   "cell_type": "code",
   "execution_count": 22,
   "metadata": {},
   "outputs": [
    {
     "data": {
      "text/plain": [
       "<matplotlib.image.AxesImage at 0x1c9cd860ef0>"
      ]
     },
     "execution_count": 22,
     "metadata": {},
     "output_type": "execute_result"
    },
    {
     "data": {
      "image/png": "[encoded data removed]",
      "text/plain": [
       "<Figure size 432x288 with 1 Axes>"
      ]
     },
     "metadata": {
      "needs_background": "light"
     },
     "output_type": "display_data"
    }
   ],
   "source": [
    "red = pic[:,:,0]\n",
    "pic[:,:,0] = red * 10\n",
    "#pic[:,:,0][pic[:,:,0]>1.0] = 1.0\n",
    "red[red>1.0] = 1.0\n",
    "\n",
    "plt.imshow(pic)"
   ]
  },
  {
   "cell_type": "code",
   "execution_count": null,
   "metadata": {},
   "outputs": [],
   "source": []
  }
 ],
 "metadata": {
  "kernelspec": {
   "display_name": "Python 3",
   "language": "python",
   "name": "python3"
  },
  "language_info": {
   "codemirror_mode": {
    "name": "ipython",
    "version": 3
   },
   "file_extension": ".py",
   "mimetype": "text/x-python",
   "name": "python",
   "nbconvert_exporter": "python",
   "pygments_lexer": "ipython3",
   "version": "3.7.0"
  }
 },
 "nbformat": 4,
 "nbformat_minor": 2
}
