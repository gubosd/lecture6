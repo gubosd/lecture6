{
 "cells": [
  {
   "cell_type": "markdown",
   "metadata": {},
   "source": [
    "## 파이썬 고급\n",
    "# Numpy 랜덤 생성 함수\n",
    "- np.random.rand() : 0~1 사이의 실수값\n",
    "- np.random.randn() : 평균이 0, 표준편차가 1인 정규분포에서 실수값을 뽑는다\n",
    "- np.random.randint() : 정해진 범위에서 정수값을 뽑는다\n",
    "- np.random.normal() : 정규분포에서 평균과 표준편차를 직접 지정\n",
    "- np.random.uniform() : 정해진 범위에서 실수값을 뽑는다\n",
    "- np.random.permutation() : 데이터를 임의로 섞어 새로운 array 를 생성한다\n",
    "- np.random.choice() : 데이터에서 정해진 갯수만큼 값을 뽑아낸다\n",
    "- np.random.seed() : 실험 재현을 위해 시드값을 고정한다\n",
    "> 교재 175쪽 참조"
   ]
  },
  {
   "cell_type": "code",
   "execution_count": 1,
   "metadata": {},
   "outputs": [],
   "source": [
    "import numpy as np\n",
    "import matplotlib.pyplot as plt"
   ]
  },
  {
   "cell_type": "code",
   "execution_count": 15,
   "metadata": {},
   "outputs": [
    {
     "name": "stdout",
     "output_type": "stream",
     "text": [
      "Help on function imread in module matplotlib.pyplot:\n",
      "\n",
      "imread(*args, **kwargs)\n",
      "    Read an image from a file into an array.\n",
      "    \n",
      "    *fname* may be a string path, a valid URL, or a Python\n",
      "    file-like object.  If using a file object, it must be opened in binary\n",
      "    mode.\n",
      "    \n",
      "    If *format* is provided, will try to read file of that type,\n",
      "    otherwise the format is deduced from the filename.  If nothing can\n",
      "    be deduced, PNG is tried.\n",
      "    \n",
      "    Return value is a :class:`numpy.array`.  For grayscale images, the\n",
      "    return array is MxN.  For RGB images, the return value is MxNx3.\n",
      "    For RGBA images the return value is MxNx4.\n",
      "    \n",
      "    matplotlib can only read PNGs natively, but if `PIL\n",
      "    <http://www.pythonware.com/products/pil/>`_ is installed, it will\n",
      "    use it to load the image and return an array (if possible) which\n",
      "    can be used with :func:`~matplotlib.pyplot.imshow`. Note, URL strings\n",
      "    may not be compatible with PIL. Check the PIL documentation for more\n",
      "    information.\n",
      "\n"
     ]
    }
   ],
   "source": [
    "help(plt.imread)"
   ]
  },
  {
   "cell_type": "markdown",
   "metadata": {},
   "source": [
    "### rand()\n",
    "- 0~1 사이의 임의의 실수 선택 (1은 제외)"
   ]
  },
  {
   "cell_type": "code",
   "execution_count": 5,
   "metadata": {},
   "outputs": [
    {
     "data": {
      "text/plain": [
       "array([[0.9859331 , 0.57149753, 0.77172532, 0.39954302, 0.54851649],\n",
       "       [0.06184861, 0.84022648, 0.91900578, 0.29916949, 0.6031515 ],\n",
       "       [0.77171668, 0.22952203, 0.93125201, 0.75864506, 0.45068215],\n",
       "       [0.01702146, 0.17013911, 0.3504666 , 0.17738674, 0.14973235],\n",
       "       [0.25571341, 0.60079286, 0.23856057, 0.28780582, 0.02931162]])"
      ]
     },
     "execution_count": 5,
     "metadata": {},
     "output_type": "execute_result"
    }
   ],
   "source": [
    "a = np.random.rand(5,5) # [0,1) 구간의 잉의수 실수 선택\n",
    "a"
   ]
  },
  {
   "cell_type": "code",
   "execution_count": 6,
   "metadata": {},
   "outputs": [
    {
     "data": {
      "text/plain": [
       "array([[ True,  True,  True, False,  True],\n",
       "       [False,  True,  True, False,  True],\n",
       "       [ True, False,  True,  True, False],\n",
       "       [False, False, False, False, False],\n",
       "       [False,  True, False, False, False]])"
      ]
     },
     "execution_count": 6,
     "metadata": {},
     "output_type": "execute_result"
    }
   ],
   "source": [
    "a>0.5"
   ]
  },
  {
   "cell_type": "code",
   "execution_count": 7,
   "metadata": {},
   "outputs": [
    {
     "data": {
      "text/plain": [
       "0.4567746316412942"
      ]
     },
     "execution_count": 7,
     "metadata": {},
     "output_type": "execute_result"
    }
   ],
   "source": [
    "a.mean()"
   ]
  },
  {
   "cell_type": "code",
   "execution_count": 8,
   "metadata": {},
   "outputs": [
    {
     "data": {
      "text/plain": [
       "(11, 0.7547693469704448)"
      ]
     },
     "execution_count": 8,
     "metadata": {},
     "output_type": "execute_result"
    }
   ],
   "source": [
    "(a>0.5).sum(), a[a>0.5].mean()"
   ]
  },
  {
   "cell_type": "code",
   "execution_count": 9,
   "metadata": {},
   "outputs": [
    {
     "data": {
      "text/plain": [
       "Text(0.5,1,'Histogram - rand()')"
      ]
     },
     "execution_count": 9,
     "metadata": {},
     "output_type": "execute_result"
    },
    {
     "data": {
      "image/png": "[encoded data removed]",
      "text/plain": [
       "<Figure size 432x288 with 1 Axes>"
      ]
     },
     "metadata": {
      "needs_background": "light"
     },
     "output_type": "display_data"
    }
   ],
   "source": [
    "a2 = np.random.rand(10000)\n",
    "\n",
    "plt.hist(a2)\n",
    "plt.title('Histogram - rand()')"
   ]
  },
  {
   "cell_type": "markdown",
   "metadata": {},
   "source": [
    "### randn()\n",
    "- 평균이 0, 표준편차가 1인 임의의 실수 선택"
   ]
  },
  {
   "cell_type": "code",
   "execution_count": 10,
   "metadata": {},
   "outputs": [
    {
     "data": {
      "text/plain": [
       "array([[-1.26242229,  1.92919702, -0.19203458, -1.51324524,  0.06957473],\n",
       "       [ 0.49649203,  0.32696804,  0.49305137, -0.84966294,  0.48564777],\n",
       "       [-0.9305751 ,  1.46530585,  0.48342257,  0.81067182,  0.44454607],\n",
       "       [-0.6520821 , -0.84375299, -1.43506155, -0.40684198, -0.44720918],\n",
       "       [ 0.67958783,  0.01237004, -0.6927499 , -1.10970373, -1.49622981]])"
      ]
     },
     "execution_count": 10,
     "metadata": {},
     "output_type": "execute_result"
    }
   ],
   "source": [
    "a = np.random.randn(5,5)\n",
    "a"
   ]
  },
  {
   "cell_type": "code",
   "execution_count": 12,
   "metadata": {},
   "outputs": [
    {
     "data": {
      "text/plain": [
       "-0.16538944986589732"
      ]
     },
     "execution_count": 12,
     "metadata": {},
     "output_type": "execute_result"
    }
   ],
   "source": [
    "a.mean()"
   ]
  },
  {
   "cell_type": "code",
   "execution_count": 13,
   "metadata": {},
   "outputs": [
    {
     "data": {
      "text/plain": [
       "array([[False,  True, False, False,  True],\n",
       "       [ True,  True,  True, False,  True],\n",
       "       [False,  True,  True,  True,  True],\n",
       "       [False, False, False, False, False],\n",
       "       [ True,  True, False, False, False]])"
      ]
     },
     "execution_count": 13,
     "metadata": {},
     "output_type": "execute_result"
    }
   ],
   "source": [
    "a>0"
   ]
  },
  {
   "cell_type": "code",
   "execution_count": 14,
   "metadata": {},
   "outputs": [
    {
     "data": {
      "text/plain": [
       "(12, 0.6414029278093052)"
      ]
     },
     "execution_count": 14,
     "metadata": {},
     "output_type": "execute_result"
    }
   ],
   "source": [
    "(a>0).sum(), a[a>0].mean()"
   ]
  },
  {
   "cell_type": "code",
   "execution_count": 11,
   "metadata": {},
   "outputs": [
    {
     "data": {
      "text/plain": [
       "array([[False, False, False,  True, False],\n",
       "       [False, False, False, False, False],\n",
       "       [False, False, False, False, False],\n",
       "       [False,  True, False, False,  True],\n",
       "       [False, False, False, False, False]])"
      ]
     },
     "execution_count": 11,
     "metadata": {},
     "output_type": "execute_result"
    }
   ],
   "source": [
    "a>1"
   ]
  },
  {
   "cell_type": "code",
   "execution_count": 12,
   "metadata": {},
   "outputs": [
    {
     "data": {
      "text/plain": [
       "array([[-0.06161631,  0.72963727, -0.72734262,  1.        ,  0.15150074],\n",
       "       [ 0.35197221,  0.06540728, -0.45181694, -1.47733495, -1.90211798],\n",
       "       [-0.60582453, -0.42118121,  0.75252951,  0.92468338, -0.48626112],\n",
       "       [ 0.19725696,  1.        , -0.7349214 ,  0.04797536,  1.        ],\n",
       "       [ 0.84365565, -1.70913438,  0.22982975,  0.42856379, -0.99729143]])"
      ]
     },
     "execution_count": 12,
     "metadata": {},
     "output_type": "execute_result"
    }
   ],
   "source": [
    "a2 = a.copy()\n",
    "a2[a2>1] = 1\n",
    "a2"
   ]
  },
  {
   "cell_type": "code",
   "execution_count": 13,
   "metadata": {},
   "outputs": [
    {
     "data": {
      "text/plain": [
       "array([[-0.06161631,  0.72963727, -0.72734262,  1.        ,  0.15150074],\n",
       "       [ 0.35197221,  0.06540728, -0.45181694, -1.        , -1.        ],\n",
       "       [-0.60582453, -0.42118121,  0.75252951,  0.92468338, -0.48626112],\n",
       "       [ 0.19725696,  1.        , -0.7349214 ,  0.04797536,  1.        ],\n",
       "       [ 0.84365565, -1.        ,  0.22982975,  0.42856379, -0.99729143]])"
      ]
     },
     "execution_count": 13,
     "metadata": {},
     "output_type": "execute_result"
    }
   ],
   "source": [
    "a2[a2<-1] = -1\n",
    "a2"
   ]
  },
  {
   "cell_type": "code",
   "execution_count": 14,
   "metadata": {},
   "outputs": [
    {
     "data": {
      "text/plain": [
       "Text(0.5,1,'Histogram - randn()')"
      ]
     },
     "execution_count": 14,
     "metadata": {},
     "output_type": "execute_result"
    },
    {
     "data": {
      "image/png": "[encoded data removed]",
      "text/plain": [
       "<Figure size 432x288 with 1 Axes>"
      ]
     },
     "metadata": {
      "needs_background": "light"
     },
     "output_type": "display_data"
    }
   ],
   "source": [
    "a3 = np.random.randn(1000000)\n",
    "\n",
    "plt.hist(a3, bins=300)\n",
    "plt.title('Histogram - randn()')"
   ]
  },
  {
   "cell_type": "code",
   "execution_count": 15,
   "metadata": {},
   "outputs": [
    {
     "data": {
      "text/plain": [
       "(4.726323648886926, -4.611929674783228)"
      ]
     },
     "execution_count": 15,
     "metadata": {},
     "output_type": "execute_result"
    }
   ],
   "source": [
    "a3.max(), a3.min()"
   ]
  },
  {
   "cell_type": "markdown",
   "metadata": {},
   "source": [
    "### randint()\n",
    "- 범위 안의 정수 선택"
   ]
  },
  {
   "cell_type": "code",
   "execution_count": 19,
   "metadata": {
    "scrolled": true
   },
   "outputs": [
    {
     "name": "stdout",
     "output_type": "stream",
     "text": [
      "Help on built-in function randint:\n",
      "\n",
      "randint(...) method of mtrand.RandomState instance\n",
      "    randint(low, high=None, size=None, dtype='l')\n",
      "    \n",
      "    Return random integers from `low` (inclusive) to `high` (exclusive).\n",
      "    \n",
      "    Return random integers from the \"discrete uniform\" distribution of\n",
      "    the specified dtype in the \"half-open\" interval [`low`, `high`). If\n",
      "    `high` is None (the default), then results are from [0, `low`).\n",
      "    \n",
      "    Parameters\n",
      "    ----------\n",
      "    low : int\n",
      "        Lowest (signed) integer to be drawn from the distribution (unless\n",
      "        ``high=None``, in which case this parameter is one above the\n",
      "        *highest* such integer).\n",
      "    high : int, optional\n",
      "        If provided, one above the largest (signed) integer to be drawn\n",
      "        from the distribution (see above for behavior if ``high=None``).\n",
      "    size : int or tuple of ints, optional\n",
      "        Output shape.  If the given shape is, e.g., ``(m, n, k)``, then\n",
      "        ``m * n * k`` samples are drawn.  Default is None, in which case a\n",
      "        single value is returned.\n",
      "    dtype : dtype, optional\n",
      "        Desired dtype of the result. All dtypes are determined by their\n",
      "        name, i.e., 'int64', 'int', etc, so byteorder is not available\n",
      "        and a specific precision may have different C types depending\n",
      "        on the platform. The default value is 'np.int'.\n",
      "    \n",
      "        .. versionadded:: 1.11.0\n",
      "    \n",
      "    Returns\n",
      "    -------\n",
      "    out : int or ndarray of ints\n",
      "        `size`-shaped array of random integers from the appropriate\n",
      "        distribution, or a single such random int if `size` not provided.\n",
      "    \n",
      "    See Also\n",
      "    --------\n",
      "    random.random_integers : similar to `randint`, only for the closed\n",
      "        interval [`low`, `high`], and 1 is the lowest value if `high` is\n",
      "        omitted. In particular, this other one is the one to use to generate\n",
      "        uniformly distributed discrete non-integers.\n",
      "    \n",
      "    Examples\n",
      "    --------\n",
      "    >>> np.random.randint(2, size=10)\n",
      "    array([1, 0, 0, 0, 1, 1, 0, 0, 1, 0])\n",
      "    >>> np.random.randint(1, size=10)\n",
      "    array([0, 0, 0, 0, 0, 0, 0, 0, 0, 0])\n",
      "    \n",
      "    Generate a 2 x 4 array of ints between 0 and 4, inclusive:\n",
      "    \n",
      "    >>> np.random.randint(5, size=(2, 4))\n",
      "    array([[4, 0, 2, 1],\n",
      "           [3, 2, 2, 0]])\n",
      "\n"
     ]
    }
   ],
   "source": [
    "help(np.random.randint)"
   ]
  },
  {
   "cell_type": "code",
   "execution_count": 25,
   "metadata": {},
   "outputs": [
    {
     "data": {
      "text/plain": [
       "array([[5, 1, 4],\n",
       "       [4, 4, 2],\n",
       "       [2, 1, 5],\n",
       "       [4, 2, 3]])"
      ]
     },
     "execution_count": 25,
     "metadata": {},
     "output_type": "execute_result"
    }
   ],
   "source": [
    "a = np.random.randint(6, size=[4,3])\n",
    "a"
   ]
  },
  {
   "cell_type": "code",
   "execution_count": 26,
   "metadata": {},
   "outputs": [
    {
     "data": {
      "text/plain": [
       "3.0833333333333335"
      ]
     },
     "execution_count": 26,
     "metadata": {},
     "output_type": "execute_result"
    }
   ],
   "source": [
    "a.mean()"
   ]
  },
  {
   "cell_type": "code",
   "execution_count": 18,
   "metadata": {},
   "outputs": [
    {
     "data": {
      "text/plain": [
       "array([4.25, 4.5 , 3.75])"
      ]
     },
     "execution_count": 18,
     "metadata": {},
     "output_type": "execute_result"
    }
   ],
   "source": [
    "a.mean(axis=0)"
   ]
  },
  {
   "cell_type": "code",
   "execution_count": 27,
   "metadata": {},
   "outputs": [
    {
     "data": {
      "text/plain": [
       "array([3.33333333, 3.33333333, 2.66666667, 3.        ])"
      ]
     },
     "execution_count": 27,
     "metadata": {},
     "output_type": "execute_result"
    }
   ],
   "source": [
    "a.mean(axis=1)"
   ]
  },
  {
   "cell_type": "code",
   "execution_count": 45,
   "metadata": {},
   "outputs": [
    {
     "data": {
      "text/plain": [
       "array([[0, 1, 1, 1, 0, 0, 1, 0, 0, 1],\n",
       "       [0, 0, 1, 1, 0, 0, 1, 0, 1, 0],\n",
       "       [1, 1, 0, 0, 1, 0, 0, 0, 0, 1],\n",
       "       [0, 1, 0, 0, 1, 0, 1, 0, 1, 0],\n",
       "       [0, 0, 1, 0, 0, 1, 1, 0, 1, 1],\n",
       "       [0, 0, 1, 1, 0, 1, 1, 0, 0, 0],\n",
       "       [0, 0, 0, 1, 1, 1, 1, 0, 0, 0],\n",
       "       [1, 0, 0, 0, 0, 1, 0, 1, 1, 1],\n",
       "       [0, 0, 1, 0, 0, 0, 0, 0, 1, 0],\n",
       "       [1, 0, 1, 0, 0, 0, 1, 1, 1, 1]])"
      ]
     },
     "execution_count": 45,
     "metadata": {},
     "output_type": "execute_result"
    }
   ],
   "source": [
    "a = np.random.randint(2, size=[1000,100])\n",
    "a[:10,:10]"
   ]
  },
  {
   "cell_type": "code",
   "execution_count": 46,
   "metadata": {},
   "outputs": [
    {
     "data": {
      "text/plain": [
       "array([48, 48, 45, 53, 49, 57, 52, 49, 56, 50, 51, 44, 52, 51, 47, 51, 44,\n",
       "       53, 52, 52, 52, 50, 54, 58, 57, 41, 52, 51, 44, 56, 54, 48, 48, 51,\n",
       "       48, 52, 54, 48, 49, 55, 58, 41, 48, 46, 57, 46, 52, 50, 54, 51, 60,\n",
       "       42, 53, 46, 42, 52, 54, 56, 43, 52, 42, 40, 50, 46, 49, 55, 50, 54,\n",
       "       49, 46, 46, 49, 50, 53, 51, 51, 46, 54, 49, 47, 60, 49, 43, 53, 49,\n",
       "       63, 41, 58, 53, 56, 47, 51, 52, 43, 53, 47, 53, 52, 48, 51])"
      ]
     },
     "execution_count": 46,
     "metadata": {},
     "output_type": "execute_result"
    }
   ],
   "source": [
    "coin_count = a.sum(axis=1)\n",
    "coin_count[:100]"
   ]
  },
  {
   "cell_type": "code",
   "execution_count": 47,
   "metadata": {},
   "outputs": [
    {
     "data": {
      "text/plain": [
       "(array([ 0.,  0.,  0.,  0.,  0.,  0.,  0.,  0.,  0.,  0.,  0.,  0.,  0.,\n",
       "         0.,  0.,  0.,  0.,  0.,  0.,  0.,  0.,  0.,  0.,  0.,  0.,  0.,\n",
       "         0.,  0.,  0.,  1.,  0.,  0.,  0.,  1.,  0.,  1.,  0.,  3.,  7.,\n",
       "         7.,  9., 16., 21., 34., 33., 48., 57., 73., 66., 86., 76., 64.,\n",
       "        86., 65., 54., 47., 48., 31., 24., 10.,  9.,  7.,  6.,  5.,  3.,\n",
       "         1.,  1.,  0.,  0.,  0.,  0.,  0.,  0.,  0.,  0.,  0.,  0.,  0.,\n",
       "         0.,  0.,  0.,  0.,  0.,  0.,  0.,  0.,  0.,  0.,  0.,  0.,  0.,\n",
       "         0.,  0.,  0.,  0.,  0.,  0.,  0.,  0.,  0.]),\n",
       " array([  0,   1,   2,   3,   4,   5,   6,   7,   8,   9,  10,  11,  12,\n",
       "         13,  14,  15,  16,  17,  18,  19,  20,  21,  22,  23,  24,  25,\n",
       "         26,  27,  28,  29,  30,  31,  32,  33,  34,  35,  36,  37,  38,\n",
       "         39,  40,  41,  42,  43,  44,  45,  46,  47,  48,  49,  50,  51,\n",
       "         52,  53,  54,  55,  56,  57,  58,  59,  60,  61,  62,  63,  64,\n",
       "         65,  66,  67,  68,  69,  70,  71,  72,  73,  74,  75,  76,  77,\n",
       "         78,  79,  80,  81,  82,  83,  84,  85,  86,  87,  88,  89,  90,\n",
       "         91,  92,  93,  94,  95,  96,  97,  98,  99, 100]),\n",
       " <a list of 100 Patch objects>)"
      ]
     },
     "execution_count": 47,
     "metadata": {},
     "output_type": "execute_result"
    },
    {
     "data": {
      "image/png": "[encoded data removed]",
      "text/plain": [
       "<Figure size 432x288 with 1 Axes>"
      ]
     },
     "metadata": {
      "needs_background": "light"
     },
     "output_type": "display_data"
    }
   ],
   "source": [
    "plt.hist(coin_count, bins=range(101))"
   ]
  },
  {
   "cell_type": "code",
   "execution_count": 29,
   "metadata": {},
   "outputs": [
    {
     "data": {
      "text/plain": [
       "array([0, 0, 0, 0, 0, 0, 0, 0, 0, 0, 0, 0, 0, 0, 0, 0, 0, 0, 0, 0, 0, 0,\n",
       "       0, 0, 0, 0, 0, 0, 0, 0, 0, 0, 0, 0, 0, 0, 0, 0, 0, 0, 0, 0, 0, 0,\n",
       "       0, 0, 0, 0, 0, 0, 0, 0, 0, 0, 0, 0, 0, 0, 0, 0, 0, 0, 0, 0, 0, 0,\n",
       "       0, 0, 0, 0, 0, 0, 0, 0, 0, 0, 0, 0, 0, 0, 0, 0, 0, 0, 0, 0, 0, 0,\n",
       "       0, 0, 0, 0, 0, 0, 0, 0, 0, 0, 0, 0, 0, 2, 2, 1], dtype=int64)"
      ]
     },
     "execution_count": 29,
     "metadata": {},
     "output_type": "execute_result"
    }
   ],
   "source": [
    "k = [101,102,102,101,103]\n",
    "np.bincount(k) # 정수 배열에서 해당 정수의 출현 횟수를 알려준다"
   ]
  },
  {
   "cell_type": "code",
   "execution_count": 48,
   "metadata": {},
   "outputs": [
    {
     "data": {
      "text/plain": [
       "array([ 0,  0,  0,  0,  0,  0,  0,  0,  0,  0,  0,  0,  0,  0,  0,  0,  0,\n",
       "        0,  0,  0,  0,  0,  0,  0,  0,  0,  0,  0,  0,  1,  0,  0,  0,  1,\n",
       "        0,  1,  0,  3,  7,  7,  9, 16, 21, 34, 33, 48, 57, 73, 66, 86, 76,\n",
       "       64, 86, 65, 54, 47, 48, 31, 24, 10,  9,  7,  6,  5,  3,  1,  1],\n",
       "      dtype=int64)"
      ]
     },
     "execution_count": 48,
     "metadata": {},
     "output_type": "execute_result"
    }
   ],
   "source": [
    "np.bincount(coin_count)"
   ]
  },
  {
   "cell_type": "code",
   "execution_count": 23,
   "metadata": {},
   "outputs": [
    {
     "data": {
      "text/plain": [
       "[<matplotlib.lines.Line2D at 0x1f6e6143b70>]"
      ]
     },
     "execution_count": 23,
     "metadata": {},
     "output_type": "execute_result"
    },
    {
     "data": {
      "image/png": "[encoded data removed]",
      "text/plain": [
       "<Figure size 432x288 with 1 Axes>"
      ]
     },
     "metadata": {
      "needs_background": "light"
     },
     "output_type": "display_data"
    }
   ],
   "source": [
    "plt.plot(np.bincount(coin_count))"
   ]
  },
  {
   "cell_type": "markdown",
   "metadata": {},
   "source": [
    "### normal()\n",
    "- 평균과 표준편차를 지정하여 랜덤 숫자 선택\n",
    "- randn() 과 비슷"
   ]
  },
  {
   "cell_type": "code",
   "execution_count": 24,
   "metadata": {
    "collapsed": true
   },
   "outputs": [
    {
     "data": {
      "text/plain": [
       "array([ 3.02723721,  8.78786577,  6.36013435,  8.30134693, -2.32097393,\n",
       "        6.40609882, 24.25808322, 19.04244041, 16.49025191, 13.4357883 ,\n",
       "       14.10416775, 13.37269906, 10.02279166,  6.60036568,  0.51771012,\n",
       "       12.11690602,  6.63131377, 17.06117268, -0.18479517,  7.03514298,\n",
       "       14.42712575, 10.11806886,  1.80637168,  7.88943904, 12.36340749,\n",
       "       14.50771817,  7.91292867,  3.5269334 , 21.02062334, 10.41562247,\n",
       "        6.04398818, 13.56734973, 10.72920652,  6.80282392,  9.44112603,\n",
       "       14.25108972,  9.88016361, 17.41405062, 16.388264  ,  7.04655819,\n",
       "       10.69025378, 10.47469538, 12.45308234,  3.1409403 ,  5.66252832,\n",
       "       10.97280157, 10.98418396, 14.70907513,  4.20578936, 17.15866444,\n",
       "        7.89056638, 11.30809703, 15.51205465,  9.97593234, 11.59437201,\n",
       "       16.40712007, 15.57108559, 13.15628706,  9.11702455,  8.3536866 ,\n",
       "        9.67847998,  7.53440672, 11.81205347, 18.94523093,  6.32707622,\n",
       "       11.49872626,  8.44211229,  8.31749467,  2.91831926, -4.04301663,\n",
       "       13.38942395,  8.32780271,  4.24731766, 10.7293096 , 10.82241443,\n",
       "       13.37447399,  2.01145683,  4.93749679,  6.58005593, 23.36886207,\n",
       "       15.47974217, 16.52744179, 11.51294978, 11.9350641 , 11.95221015,\n",
       "       18.93610141,  2.42097744,  1.85917263, 17.23533077, 12.40997281,\n",
       "       -1.08198385, 18.04193929, -0.52743954,  5.49120412, 10.85107907,\n",
       "       14.5419793 , 12.14907838, 11.03429498,  3.5807709 ,  8.0281492 ])"
      ]
     },
     "execution_count": 24,
     "metadata": {},
     "output_type": "execute_result"
    }
   ],
   "source": [
    "a = np.random.normal(10, 5, size=10000)\n",
    "a[:100]"
   ]
  },
  {
   "cell_type": "code",
   "execution_count": 25,
   "metadata": {},
   "outputs": [
    {
     "data": {
      "text/plain": [
       "(array([  1.,   0.,   0.,   0.,   0.,   0.,   0.,   1.,   3.,   0.,   2.,\n",
       "          2.,   0.,   3.,   3.,   3.,   2.,   4.,  11.,   9.,  13.,  13.,\n",
       "         17.,  15.,  29.,  23.,  34.,  42.,  31.,  45.,  48.,  60.,  71.,\n",
       "         82., 102., 120., 118., 133., 151., 161., 181., 186., 207., 216.,\n",
       "        225., 258., 275., 271., 262., 309., 291., 270., 301., 323., 290.,\n",
       "        309., 296., 316., 289., 278., 283., 251., 251., 233., 212., 206.,\n",
       "        203., 197., 186., 185., 126., 138., 112., 101.,  83.,  75.,  60.,\n",
       "         62.,  56.,  42.,  32.,  33.,  35.,  27.,  20.,  17.,  12.,  11.,\n",
       "          9.,   8.,  11.,   3.,   3.,   2.,   1.,   1.,   2.,   4.,   1.,\n",
       "          1.]), array([-10.96192744, -10.57713408, -10.19234072,  -9.80754736,\n",
       "         -9.422754  ,  -9.03796064,  -8.65316728,  -8.26837392,\n",
       "         -7.88358056,  -7.4987872 ,  -7.11399384,  -6.72920048,\n",
       "         -6.34440712,  -5.95961376,  -5.5748204 ,  -5.19002704,\n",
       "         -4.80523368,  -4.42044032,  -4.03564696,  -3.6508536 ,\n",
       "         -3.26606024,  -2.88126688,  -2.49647351,  -2.11168015,\n",
       "         -1.72688679,  -1.34209343,  -0.95730007,  -0.57250671,\n",
       "         -0.18771335,   0.19708001,   0.58187337,   0.96666673,\n",
       "          1.35146009,   1.73625345,   2.12104681,   2.50584017,\n",
       "          2.89063353,   3.27542689,   3.66022025,   4.04501361,\n",
       "          4.42980697,   4.81460033,   5.19939369,   5.58418705,\n",
       "          5.96898041,   6.35377377,   6.73856713,   7.12336049,\n",
       "          7.50815385,   7.89294721,   8.27774057,   8.66253393,\n",
       "          9.04732729,   9.43212065,   9.81691401,  10.20170737,\n",
       "         10.58650074,  10.9712941 ,  11.35608746,  11.74088082,\n",
       "         12.12567418,  12.51046754,  12.8952609 ,  13.28005426,\n",
       "         13.66484762,  14.04964098,  14.43443434,  14.8192277 ,\n",
       "         15.20402106,  15.58881442,  15.97360778,  16.35840114,\n",
       "         16.7431945 ,  17.12798786,  17.51278122,  17.89757458,\n",
       "         18.28236794,  18.6671613 ,  19.05195466,  19.43674802,\n",
       "         19.82154138,  20.20633474,  20.5911281 ,  20.97592146,\n",
       "         21.36071482,  21.74550818,  22.13030154,  22.5150949 ,\n",
       "         22.89988826,  23.28468162,  23.66947499,  24.05426835,\n",
       "         24.43906171,  24.82385507,  25.20864843,  25.59344179,\n",
       "         25.97823515,  26.36302851,  26.74782187,  27.13261523,\n",
       "         27.51740859]), <a list of 100 Patch objects>)"
      ]
     },
     "execution_count": 25,
     "metadata": {},
     "output_type": "execute_result"
    },
    {
     "data": {
      "image/png": "[encoded data removed]",
      "text/plain": [
       "<Figure size 432x288 with 1 Axes>"
      ]
     },
     "metadata": {
      "needs_background": "light"
     },
     "output_type": "display_data"
    }
   ],
   "source": [
    "plt.hist(a, bins=100)"
   ]
  },
  {
   "cell_type": "code",
   "execution_count": 26,
   "metadata": {},
   "outputs": [
    {
     "data": {
      "text/plain": [
       "9.913151820235019"
      ]
     },
     "execution_count": 26,
     "metadata": {},
     "output_type": "execute_result"
    }
   ],
   "source": [
    "a.mean()"
   ]
  },
  {
   "cell_type": "code",
   "execution_count": 27,
   "metadata": {},
   "outputs": [
    {
     "data": {
      "text/plain": [
       "4.982500761715181"
      ]
     },
     "execution_count": 27,
     "metadata": {},
     "output_type": "execute_result"
    }
   ],
   "source": [
    "a.std()"
   ]
  },
  {
   "cell_type": "code",
   "execution_count": 28,
   "metadata": {},
   "outputs": [
    {
     "data": {
      "text/plain": [
       "15"
      ]
     },
     "execution_count": 28,
     "metadata": {},
     "output_type": "execute_result"
    }
   ],
   "source": [
    "(a<-5).sum()"
   ]
  },
  {
   "cell_type": "code",
   "execution_count": 29,
   "metadata": {},
   "outputs": [
    {
     "data": {
      "text/plain": [
       "11"
      ]
     },
     "execution_count": 29,
     "metadata": {},
     "output_type": "execute_result"
    }
   ],
   "source": [
    "(a>25).sum()"
   ]
  },
  {
   "cell_type": "markdown",
   "metadata": {},
   "source": [
    "### uniform()\n",
    "- 정해진 범위 내에서 실수 선택"
   ]
  },
  {
   "cell_type": "code",
   "execution_count": 30,
   "metadata": {},
   "outputs": [],
   "source": [
    "a = np.random.uniform(100, 200, size=10000)\n",
    "# a"
   ]
  },
  {
   "cell_type": "code",
   "execution_count": 31,
   "metadata": {},
   "outputs": [
    {
     "data": {
      "text/plain": [
       "(array([1010.,  916.,  965., 1046.,  977., 1083.,  924., 1053.,  968.,\n",
       "        1058.]), array([100.03104611, 110.02729703, 120.02354794, 130.01979886,\n",
       "        140.01604978, 150.0123007 , 160.00855161, 170.00480253,\n",
       "        180.00105345, 189.99730437, 199.99355528]), <a list of 10 Patch objects>)"
      ]
     },
     "execution_count": 31,
     "metadata": {},
     "output_type": "execute_result"
    },
    {
     "data": {
      "image/png": "[encoded data removed]",
      "text/plain": [
       "<Figure size 432x288 with 1 Axes>"
      ]
     },
     "metadata": {
      "needs_background": "light"
     },
     "output_type": "display_data"
    }
   ],
   "source": [
    "plt.hist(a)"
   ]
  },
  {
   "cell_type": "markdown",
   "metadata": {},
   "source": [
    "### permutation()\n",
    "- 숫자를 임의로 섞는다\n",
    "- 중복되지 않은 인덱스를 뽑아 낼 수 있다\n",
    "- 원본 데이터는 그대로 두고, 결과를 새로운 데이터로 생성한다"
   ]
  },
  {
   "cell_type": "code",
   "execution_count": 32,
   "metadata": {},
   "outputs": [
    {
     "data": {
      "text/plain": [
       "array([ 0,  1,  2,  3,  4,  5,  6,  7,  8,  9, 10, 11, 12, 13, 14, 15, 16,\n",
       "       17, 18, 19, 20, 21, 22, 23, 24, 25, 26, 27, 28, 29, 30, 31, 32, 33,\n",
       "       34, 35, 36, 37, 38, 39, 40, 41, 42, 43, 44, 45, 46, 47, 48, 49, 50,\n",
       "       51, 52, 53, 54, 55, 56, 57, 58, 59, 60, 61, 62, 63, 64, 65, 66, 67,\n",
       "       68, 69, 70, 71, 72, 73, 74, 75, 76, 77, 78, 79, 80, 81, 82, 83, 84,\n",
       "       85, 86, 87, 88, 89, 90, 91, 92, 93, 94, 95, 96, 97, 98, 99])"
      ]
     },
     "execution_count": 32,
     "metadata": {},
     "output_type": "execute_result"
    }
   ],
   "source": [
    "a = np.arange(100)\n",
    "a"
   ]
  },
  {
   "cell_type": "code",
   "execution_count": 33,
   "metadata": {},
   "outputs": [
    {
     "data": {
      "text/plain": [
       "array([76, 74, 39, 65, 52, 59,  7, 29, 83, 97, 28, 33, 99, 90, 13, 26, 62,\n",
       "       14, 30, 81,  8, 70, 48,  5, 57, 54,  9, 44, 87, 78,  4, 21, 15, 55,\n",
       "       12, 20, 98, 11, 16, 92, 75, 41, 47, 38, 31, 91, 71, 89, 45, 77,  6,\n",
       "       19, 69, 80, 36, 95, 42, 86, 34, 50, 96, 84, 73, 18, 40, 67, 88, 25,\n",
       "       82, 24, 63,  1, 46, 23, 64, 79,  0, 53, 61, 35, 72, 22, 58,  2, 17,\n",
       "       51, 94, 32, 37, 27, 68, 60,  3, 85, 93, 43, 56, 49, 10, 66])"
      ]
     },
     "execution_count": 33,
     "metadata": {},
     "output_type": "execute_result"
    }
   ],
   "source": [
    "a2 = np.random.permutation(a)\n",
    "a2"
   ]
  },
  {
   "cell_type": "code",
   "execution_count": 34,
   "metadata": {},
   "outputs": [
    {
     "data": {
      "text/plain": [
       "<matplotlib.legend.Legend at 0x1f6e63640b8>"
      ]
     },
     "execution_count": 34,
     "metadata": {},
     "output_type": "execute_result"
    },
    {
     "data": {
      "image/png": "[encoded data removed]",
      "text/plain": [
       "<Figure size 432x288 with 1 Axes>"
      ]
     },
     "metadata": {
      "needs_background": "light"
     },
     "output_type": "display_data"
    }
   ],
   "source": [
    "plt.plot(a, label='a')\n",
    "plt.plot(a2, 'g^:', label='a2')\n",
    "plt.legend()"
   ]
  },
  {
   "cell_type": "markdown",
   "metadata": {},
   "source": [
    "> **연습문제**<br>\n",
    "> Iris 데이터를 줄 단위로(샘플 단위로) 섞으세요."
   ]
  },
  {
   "cell_type": "code",
   "execution_count": 30,
   "metadata": {},
   "outputs": [],
   "source": [
    "f = open('iris.csv')\n",
    "\n",
    "line = f.readline()\n",
    "features = line.strip().split(',')[:4]\n",
    "\n",
    "labels = ['Iris-setosa', 'Iris-versicolor', 'Iris-virginica']\n",
    "\n",
    "data = []\n",
    "for line in f:\n",
    "    l = line.strip().split(',')\n",
    "    l[:4] = [float(i) for i in l[:4]]\n",
    "    l[4] = labels.index(l[4])\n",
    "    \n",
    "    data.append(l)\n",
    "\n",
    "f.close()\n",
    "\n",
    "iris = np.array(data)"
   ]
  },
  {
   "cell_type": "code",
   "execution_count": 35,
   "metadata": {
    "scrolled": true
   },
   "outputs": [
    {
     "data": {
      "text/plain": [
       "array([[7.2, 3.2, 6. , 1.8, 2. ],\n",
       "       [6.8, 3.2, 5.9, 2.3, 2. ],\n",
       "       [4.9, 3.1, 1.5, 0.1, 0. ],\n",
       "       [4.6, 3.6, 1. , 0.2, 0. ],\n",
       "       [7.7, 2.6, 6.9, 2.3, 2. ],\n",
       "       [4.8, 3.4, 1.9, 0.2, 0. ],\n",
       "       [5.5, 2.4, 3.8, 1.1, 1. ],\n",
       "       [6.7, 3. , 5.2, 2.3, 2. ],\n",
       "       [5. , 3.5, 1.3, 0.3, 0. ],\n",
       "       [6.2, 2.2, 4.5, 1.5, 1. ],\n",
       "       [7.2, 3.6, 6.1, 2.5, 2. ],\n",
       "       [5.5, 2.4, 3.7, 1. , 1. ],\n",
       "       [4.9, 3.1, 1.5, 0.1, 0. ],\n",
       "       [6.3, 2.7, 4.9, 1.8, 2. ],\n",
       "       [6.8, 2.8, 4.8, 1.4, 1. ],\n",
       "       [6.3, 2.8, 5.1, 1.5, 2. ],\n",
       "       [4.6, 3.1, 1.5, 0.2, 0. ],\n",
       "       [4.6, 3.4, 1.4, 0.3, 0. ],\n",
       "       [6.4, 3.2, 4.5, 1.5, 1. ],\n",
       "       [5.1, 3.8, 1.6, 0.2, 0. ],\n",
       "       [4.9, 2.5, 4.5, 1.7, 2. ],\n",
       "       [6. , 2.2, 4. , 1. , 1. ],\n",
       "       [6.3, 2.5, 5. , 1.9, 2. ],\n",
       "       [7.4, 2.8, 6.1, 1.9, 2. ],\n",
       "       [5.8, 2.7, 5.1, 1.9, 2. ],\n",
       "       [5.5, 3.5, 1.3, 0.2, 0. ],\n",
       "       [5.6, 3. , 4.5, 1.5, 1. ],\n",
       "       [5.2, 3.4, 1.4, 0.2, 0. ],\n",
       "       [6. , 3.4, 4.5, 1.6, 1. ],\n",
       "       [4.8, 3. , 1.4, 0.1, 0. ],\n",
       "       [5.8, 2.7, 3.9, 1.2, 1. ],\n",
       "       [5.4, 3.4, 1.5, 0.4, 0. ],\n",
       "       [5. , 3. , 1.6, 0.2, 0. ],\n",
       "       [6.6, 3. , 4.4, 1.4, 1. ],\n",
       "       [5.7, 4.4, 1.5, 0.4, 0. ],\n",
       "       [7.7, 2.8, 6.7, 2. , 2. ],\n",
       "       [5.2, 3.5, 1.5, 0.2, 0. ],\n",
       "       [5.6, 2.7, 4.2, 1.3, 1. ],\n",
       "       [6.7, 3.3, 5.7, 2.1, 2. ],\n",
       "       [4.4, 3.2, 1.3, 0.2, 0. ],\n",
       "       [6.9, 3.1, 5.4, 2.1, 2. ],\n",
       "       [4.8, 3.1, 1.6, 0.2, 0. ],\n",
       "       [5.2, 2.7, 3.9, 1.4, 1. ],\n",
       "       [5. , 3.5, 1.6, 0.6, 0. ],\n",
       "       [5. , 3.6, 1.4, 0.2, 0. ],\n",
       "       [5. , 2. , 3.5, 1. , 1. ],\n",
       "       [4.8, 3. , 1.4, 0.3, 0. ],\n",
       "       [5.8, 2.7, 5.1, 1.9, 2. ],\n",
       "       [5.1, 3.5, 1.4, 0.3, 0. ],\n",
       "       [5.9, 3. , 4.2, 1.5, 1. ],\n",
       "       [5.7, 2.8, 4.5, 1.3, 1. ],\n",
       "       [5.1, 3.5, 1.4, 0.2, 0. ],\n",
       "       [5.4, 3.4, 1.7, 0.2, 0. ],\n",
       "       [6.5, 2.8, 4.6, 1.5, 1. ],\n",
       "       [4.9, 2.4, 3.3, 1. , 1. ],\n",
       "       [5.4, 3.9, 1.7, 0.4, 0. ],\n",
       "       [6.7, 2.5, 5.8, 1.8, 2. ],\n",
       "       [5.3, 3.7, 1.5, 0.2, 0. ],\n",
       "       [5.2, 4.1, 1.5, 0.1, 0. ],\n",
       "       [6.7, 3.1, 4.7, 1.5, 1. ],\n",
       "       [6.2, 2.9, 4.3, 1.3, 1. ],\n",
       "       [6.4, 2.8, 5.6, 2.1, 2. ],\n",
       "       [5.5, 2.5, 4. , 1.3, 1. ],\n",
       "       [5.7, 2.5, 5. , 2. , 2. ],\n",
       "       [7. , 3.2, 4.7, 1.4, 1. ],\n",
       "       [6.7, 3.1, 5.6, 2.4, 2. ],\n",
       "       [5. , 3.4, 1.5, 0.2, 0. ],\n",
       "       [6.9, 3.2, 5.7, 2.3, 2. ],\n",
       "       [6.3, 3.3, 6. , 2.5, 2. ],\n",
       "       [6.3, 3.4, 5.6, 2.4, 2. ],\n",
       "       [5.4, 3.9, 1.3, 0.4, 0. ],\n",
       "       [5. , 3.2, 1.2, 0.2, 0. ],\n",
       "       [5.1, 3.8, 1.9, 0.4, 0. ],\n",
       "       [5.7, 2.8, 4.1, 1.3, 1. ],\n",
       "       [4.9, 3. , 1.4, 0.2, 0. ],\n",
       "       [6.4, 2.8, 5.6, 2.2, 2. ],\n",
       "       [5.5, 2.3, 4. , 1.3, 1. ],\n",
       "       [7.9, 3.8, 6.4, 2. , 2. ],\n",
       "       [5.4, 3.7, 1.5, 0.2, 0. ],\n",
       "       [6. , 2.7, 5.1, 1.6, 1. ],\n",
       "       [6.3, 2.9, 5.6, 1.8, 2. ],\n",
       "       [5.8, 2.8, 5.1, 2.4, 2. ],\n",
       "       [5.1, 3.3, 1.7, 0.5, 0. ],\n",
       "       [5.1, 3.8, 1.5, 0.3, 0. ],\n",
       "       [5.1, 2.5, 3. , 1.1, 1. ],\n",
       "       [6.3, 2.3, 4.4, 1.3, 1. ],\n",
       "       [5. , 3.3, 1.4, 0.2, 0. ],\n",
       "       [6.5, 3. , 5.8, 2.2, 2. ],\n",
       "       [5.7, 2.6, 3.5, 1. , 1. ],\n",
       "       [6. , 2.9, 4.5, 1.5, 1. ],\n",
       "       [7.7, 3. , 6.1, 2.3, 2. ],\n",
       "       [6.5, 3. , 5.2, 2. , 2. ],\n",
       "       [6.1, 2.8, 4.7, 1.2, 1. ],\n",
       "       [4.9, 3.1, 1.5, 0.1, 0. ],\n",
       "       [5.9, 3. , 5.1, 1.8, 2. ],\n",
       "       [6.1, 3. , 4.6, 1.4, 1. ],\n",
       "       [5.5, 4.2, 1.4, 0.2, 0. ],\n",
       "       [5. , 2.3, 3.3, 1. , 1. ],\n",
       "       [4.4, 3. , 1.3, 0.2, 0. ],\n",
       "       [6.9, 3.1, 5.1, 2.3, 2. ],\n",
       "       [5.8, 2.7, 4.1, 1. , 1. ],\n",
       "       [6. , 3. , 4.8, 1.8, 2. ],\n",
       "       [6.5, 3.2, 5.1, 2. , 2. ],\n",
       "       [6.4, 3.2, 5.3, 2.3, 2. ],\n",
       "       [4.8, 3.4, 1.6, 0.2, 0. ],\n",
       "       [5.6, 2.9, 3.6, 1.3, 1. ],\n",
       "       [6.4, 2.9, 4.3, 1.3, 1. ],\n",
       "       [6.7, 3. , 5. , 1.7, 1. ],\n",
       "       [6.5, 3. , 5.5, 1.8, 2. ],\n",
       "       [4.5, 2.3, 1.3, 0.3, 0. ],\n",
       "       [5.7, 3. , 4.2, 1.2, 1. ],\n",
       "       [6.1, 3. , 4.9, 1.8, 2. ],\n",
       "       [5.8, 2.6, 4. , 1.2, 1. ],\n",
       "       [5.1, 3.4, 1.5, 0.2, 0. ],\n",
       "       [5.8, 4. , 1.2, 0.2, 0. ],\n",
       "       [4.3, 3. , 1.1, 0.1, 0. ],\n",
       "       [5.5, 2.6, 4.4, 1.2, 1. ],\n",
       "       [6.1, 2.6, 5.6, 1.4, 2. ],\n",
       "       [6.2, 3.4, 5.4, 2.3, 2. ],\n",
       "       [7.3, 2.9, 6.3, 1.8, 2. ],\n",
       "       [6.8, 3. , 5.5, 2.1, 2. ],\n",
       "       [6.9, 3.1, 4.9, 1.5, 1. ],\n",
       "       [7.6, 3. , 6.6, 2.1, 2. ],\n",
       "       [4.6, 3.2, 1.4, 0.2, 0. ],\n",
       "       [5. , 3.4, 1.6, 0.4, 0. ],\n",
       "       [5.7, 2.9, 4.2, 1.3, 1. ],\n",
       "       [4.7, 3.2, 1.3, 0.2, 0. ],\n",
       "       [5.9, 3.2, 4.8, 1.8, 1. ],\n",
       "       [5.6, 3. , 4.1, 1.3, 1. ],\n",
       "       [4.7, 3.2, 1.6, 0.2, 0. ],\n",
       "       [6. , 2.2, 5. , 1.5, 2. ],\n",
       "       [6.4, 2.7, 5.3, 1.9, 2. ],\n",
       "       [6.7, 3.1, 4.4, 1.4, 1. ],\n",
       "       [5.1, 3.7, 1.5, 0.4, 0. ],\n",
       "       [5.4, 3. , 4.5, 1.5, 1. ],\n",
       "       [6.3, 2.5, 4.9, 1.5, 1. ],\n",
       "       [6.6, 2.9, 4.6, 1.3, 1. ],\n",
       "       [6.2, 2.8, 4.8, 1.8, 2. ],\n",
       "       [6.1, 2.9, 4.7, 1.4, 1. ],\n",
       "       [5.6, 2.5, 3.9, 1.1, 1. ],\n",
       "       [7.1, 3. , 5.9, 2.1, 2. ],\n",
       "       [5.6, 2.8, 4.9, 2. , 2. ],\n",
       "       [6.7, 3.3, 5.7, 2.5, 2. ],\n",
       "       [5.7, 3.8, 1.7, 0.3, 0. ],\n",
       "       [4.4, 2.9, 1.4, 0.2, 0. ],\n",
       "       [6.4, 3.1, 5.5, 1.8, 2. ],\n",
       "       [7.2, 3. , 5.8, 1.6, 2. ],\n",
       "       [6.1, 2.8, 4. , 1.3, 1. ],\n",
       "       [6.3, 3.3, 4.7, 1.6, 1. ],\n",
       "       [7.7, 3.8, 6.7, 2.2, 2. ]])"
      ]
     },
     "execution_count": 35,
     "metadata": {},
     "output_type": "execute_result"
    }
   ],
   "source": [
    "np.random.permutation(iris) # 줄 단위로 섞어준다"
   ]
  },
  {
   "cell_type": "markdown",
   "metadata": {},
   "source": [
    "- 아래는 먼저 인덱스를 섞어준 다음, 섞인 인덱스 대로 데이터를 재조정한다"
   ]
  },
  {
   "cell_type": "code",
   "execution_count": 31,
   "metadata": {},
   "outputs": [
    {
     "data": {
      "text/plain": [
       "array([  0,   1,   2,   3,   4,   5,   6,   7,   8,   9,  10,  11,  12,\n",
       "        13,  14,  15,  16,  17,  18,  19,  20,  21,  22,  23,  24,  25,\n",
       "        26,  27,  28,  29,  30,  31,  32,  33,  34,  35,  36,  37,  38,\n",
       "        39,  40,  41,  42,  43,  44,  45,  46,  47,  48,  49,  50,  51,\n",
       "        52,  53,  54,  55,  56,  57,  58,  59,  60,  61,  62,  63,  64,\n",
       "        65,  66,  67,  68,  69,  70,  71,  72,  73,  74,  75,  76,  77,\n",
       "        78,  79,  80,  81,  82,  83,  84,  85,  86,  87,  88,  89,  90,\n",
       "        91,  92,  93,  94,  95,  96,  97,  98,  99, 100, 101, 102, 103,\n",
       "       104, 105, 106, 107, 108, 109, 110, 111, 112, 113, 114, 115, 116,\n",
       "       117, 118, 119, 120, 121, 122, 123, 124, 125, 126, 127, 128, 129,\n",
       "       130, 131, 132, 133, 134, 135, 136, 137, 138, 139, 140, 141, 142,\n",
       "       143, 144, 145, 146, 147, 148, 149])"
      ]
     },
     "execution_count": 31,
     "metadata": {},
     "output_type": "execute_result"
    }
   ],
   "source": [
    "idx = np.arange(150)\n",
    "idx"
   ]
  },
  {
   "cell_type": "code",
   "execution_count": 32,
   "metadata": {},
   "outputs": [
    {
     "data": {
      "text/plain": [
       "array([110,  34, 143,  17,  55,  11,  44,  23,  89,  24, 141,  46,  60,\n",
       "        95,   4,  47, 149,  73,  40,  12,  99, 123, 148, 121,  26,  13,\n",
       "       126,  14,  18,  51,  74, 103, 130,  54,  45, 142, 147,  62,  63,\n",
       "       139, 144,  66,  98,  35,  48,  68, 117,  15,  53, 106,  57,  58,\n",
       "        49, 140, 104,  90,   5,  83,  37, 111,  81,  88, 125, 109, 129,\n",
       "         7,  41,   1, 105,  19,  27,  52,  72,  42,  36,   0,  28,  56,\n",
       "         2, 124,  32,  78, 113,  43, 134, 131,  25,  79, 112,  84,  39,\n",
       "       114, 127,  16,  91, 115, 107,   3,  70, 116, 102, 133,  94,   6,\n",
       "        96, 132,  61,  38, 100,  64,  75,  31,  65,  87, 145, 119,  67,\n",
       "        33, 146,  93,  77, 108, 101,  85,  69,   9,  22, 136, 137,  76,\n",
       "        71,  10,  59, 138, 122,  86, 128,  82,  80,   8,  21,  20,  30,\n",
       "        50,  97, 135,  29, 118, 120,  92])"
      ]
     },
     "execution_count": 32,
     "metadata": {},
     "output_type": "execute_result"
    }
   ],
   "source": [
    "idx2 = np.random.permutation(idx)\n",
    "idx2"
   ]
  },
  {
   "cell_type": "code",
   "execution_count": 33,
   "metadata": {},
   "outputs": [
    {
     "data": {
      "text/plain": [
       "((100, 5), (50, 5))"
      ]
     },
     "execution_count": 33,
     "metadata": {},
     "output_type": "execute_result"
    }
   ],
   "source": [
    "iris2 = iris[idx2]\n",
    "\n",
    "# 학습용 데이터 100개와 테스트용 데이터 50 개로 분리한다\n",
    "iris_train = iris2[:100]\n",
    "iris_test = iris2[100:]\n",
    "\n",
    "iris_train.shape, iris_test.shape"
   ]
  },
  {
   "cell_type": "code",
   "execution_count": 34,
   "metadata": {},
   "outputs": [
    {
     "data": {
      "text/plain": [
       "array([[6.5, 3.2, 5.1, 2. , 2. ],\n",
       "       [4.9, 3.1, 1.5, 0.1, 0. ],\n",
       "       [6.8, 3.2, 5.9, 2.3, 2. ],\n",
       "       [5.1, 3.5, 1.4, 0.3, 0. ],\n",
       "       [5.7, 2.8, 4.5, 1.3, 1. ],\n",
       "       [4.8, 3.4, 1.6, 0.2, 0. ],\n",
       "       [5.1, 3.8, 1.9, 0.4, 0. ],\n",
       "       [5.1, 3.3, 1.7, 0.5, 0. ],\n",
       "       [5.5, 2.5, 4. , 1.3, 1. ],\n",
       "       [4.8, 3.4, 1.9, 0.2, 0. ],\n",
       "       [6.9, 3.1, 5.1, 2.3, 2. ],\n",
       "       [5.1, 3.8, 1.6, 0.2, 0. ],\n",
       "       [5. , 2. , 3.5, 1. , 1. ],\n",
       "       [5.7, 3. , 4.2, 1.2, 1. ],\n",
       "       [5. , 3.6, 1.4, 0.2, 0. ],\n",
       "       [4.6, 3.2, 1.4, 0.2, 0. ],\n",
       "       [5.9, 3. , 5.1, 1.8, 2. ],\n",
       "       [6.1, 2.8, 4.7, 1.2, 1. ],\n",
       "       [5. , 3.5, 1.3, 0.3, 0. ],\n",
       "       [4.8, 3. , 1.4, 0.1, 0. ],\n",
       "       [5.7, 2.8, 4.1, 1.3, 1. ],\n",
       "       [6.3, 2.7, 4.9, 1.8, 2. ],\n",
       "       [6.2, 3.4, 5.4, 2.3, 2. ],\n",
       "       [5.6, 2.8, 4.9, 2. , 2. ],\n",
       "       [5. , 3.4, 1.6, 0.4, 0. ],\n",
       "       [4.3, 3. , 1.1, 0.1, 0. ],\n",
       "       [6.2, 2.8, 4.8, 1.8, 2. ],\n",
       "       [5.8, 4. , 1.2, 0.2, 0. ],\n",
       "       [5.7, 3.8, 1.7, 0.3, 0. ],\n",
       "       [6.4, 3.2, 4.5, 1.5, 1. ],\n",
       "       [6.4, 2.9, 4.3, 1.3, 1. ],\n",
       "       [6.3, 2.9, 5.6, 1.8, 2. ],\n",
       "       [7.4, 2.8, 6.1, 1.9, 2. ],\n",
       "       [6.5, 2.8, 4.6, 1.5, 1. ],\n",
       "       [4.8, 3. , 1.4, 0.3, 0. ],\n",
       "       [5.8, 2.7, 5.1, 1.9, 2. ],\n",
       "       [6.5, 3. , 5.2, 2. , 2. ],\n",
       "       [6. , 2.2, 4. , 1. , 1. ],\n",
       "       [6.1, 2.9, 4.7, 1.4, 1. ],\n",
       "       [6.9, 3.1, 5.4, 2.1, 2. ],\n",
       "       [6.7, 3.3, 5.7, 2.5, 2. ],\n",
       "       [5.6, 3. , 4.5, 1.5, 1. ],\n",
       "       [5.1, 2.5, 3. , 1.1, 1. ],\n",
       "       [5. , 3.2, 1.2, 0.2, 0. ],\n",
       "       [5.3, 3.7, 1.5, 0.2, 0. ],\n",
       "       [6.2, 2.2, 4.5, 1.5, 1. ],\n",
       "       [7.7, 3.8, 6.7, 2.2, 2. ],\n",
       "       [5.7, 4.4, 1.5, 0.4, 0. ],\n",
       "       [5.5, 2.3, 4. , 1.3, 1. ],\n",
       "       [4.9, 2.5, 4.5, 1.7, 2. ],\n",
       "       [4.9, 2.4, 3.3, 1. , 1. ],\n",
       "       [6.6, 2.9, 4.6, 1.3, 1. ],\n",
       "       [5. , 3.3, 1.4, 0.2, 0. ],\n",
       "       [6.7, 3.1, 5.6, 2.4, 2. ],\n",
       "       [6.5, 3. , 5.8, 2.2, 2. ],\n",
       "       [5.5, 2.6, 4.4, 1.2, 1. ],\n",
       "       [5.4, 3.9, 1.7, 0.4, 0. ],\n",
       "       [6. , 2.7, 5.1, 1.6, 1. ],\n",
       "       [4.9, 3.1, 1.5, 0.1, 0. ],\n",
       "       [6.4, 2.7, 5.3, 1.9, 2. ],\n",
       "       [5.5, 2.4, 3.7, 1. , 1. ],\n",
       "       [5.6, 3. , 4.1, 1.3, 1. ],\n",
       "       [7.2, 3.2, 6. , 1.8, 2. ],\n",
       "       [7.2, 3.6, 6.1, 2.5, 2. ],\n",
       "       [7.2, 3. , 5.8, 1.6, 2. ],\n",
       "       [5. , 3.4, 1.5, 0.2, 0. ],\n",
       "       [4.5, 2.3, 1.3, 0.3, 0. ],\n",
       "       [4.9, 3. , 1.4, 0.2, 0. ],\n",
       "       [7.6, 3. , 6.6, 2.1, 2. ],\n",
       "       [5.1, 3.8, 1.5, 0.3, 0. ],\n",
       "       [5.2, 3.5, 1.5, 0.2, 0. ],\n",
       "       [6.9, 3.1, 4.9, 1.5, 1. ],\n",
       "       [6.3, 2.5, 4.9, 1.5, 1. ],\n",
       "       [4.4, 3.2, 1.3, 0.2, 0. ],\n",
       "       [5.5, 3.5, 1.3, 0.2, 0. ],\n",
       "       [5.1, 3.5, 1.4, 0.2, 0. ],\n",
       "       [5.2, 3.4, 1.4, 0.2, 0. ],\n",
       "       [6.3, 3.3, 4.7, 1.6, 1. ],\n",
       "       [4.7, 3.2, 1.3, 0.2, 0. ],\n",
       "       [6.7, 3.3, 5.7, 2.1, 2. ],\n",
       "       [5.2, 4.1, 1.5, 0.1, 0. ],\n",
       "       [6. , 2.9, 4.5, 1.5, 1. ],\n",
       "       [5.7, 2.5, 5. , 2. , 2. ],\n",
       "       [5. , 3.5, 1.6, 0.6, 0. ],\n",
       "       [6.1, 2.6, 5.6, 1.4, 2. ],\n",
       "       [7.9, 3.8, 6.4, 2. , 2. ],\n",
       "       [5. , 3. , 1.6, 0.2, 0. ],\n",
       "       [5.7, 2.6, 3.5, 1. , 1. ],\n",
       "       [6.8, 3. , 5.5, 2.1, 2. ],\n",
       "       [5.4, 3. , 4.5, 1.5, 1. ],\n",
       "       [5.1, 3.4, 1.5, 0.2, 0. ],\n",
       "       [5.8, 2.8, 5.1, 2.4, 2. ],\n",
       "       [6.1, 3. , 4.9, 1.8, 2. ],\n",
       "       [5.4, 3.9, 1.3, 0.4, 0. ],\n",
       "       [6.1, 3. , 4.6, 1.4, 1. ],\n",
       "       [6.4, 3.2, 5.3, 2.3, 2. ],\n",
       "       [7.3, 2.9, 6.3, 1.8, 2. ],\n",
       "       [4.6, 3.1, 1.5, 0.2, 0. ],\n",
       "       [5.9, 3.2, 4.8, 1.8, 1. ],\n",
       "       [6.5, 3. , 5.5, 1.8, 2. ],\n",
       "       [7.1, 3. , 5.9, 2.1, 2. ],\n",
       "       [6.3, 2.8, 5.1, 1.5, 2. ],\n",
       "       [5.6, 2.7, 4.2, 1.3, 1. ],\n",
       "       [4.6, 3.4, 1.4, 0.3, 0. ],\n",
       "       [5.7, 2.9, 4.2, 1.3, 1. ],\n",
       "       [6.4, 2.8, 5.6, 2.2, 2. ],\n",
       "       [5.9, 3. , 4.2, 1.5, 1. ],\n",
       "       [4.4, 3. , 1.3, 0.2, 0. ],\n",
       "       [6.3, 3.3, 6. , 2.5, 2. ],\n",
       "       [5.6, 2.9, 3.6, 1.3, 1. ],\n",
       "       [6.6, 3. , 4.4, 1.4, 1. ],\n",
       "       [5.4, 3.4, 1.5, 0.4, 0. ],\n",
       "       [6.7, 3.1, 4.4, 1.4, 1. ],\n",
       "       [6.3, 2.3, 4.4, 1.3, 1. ],\n",
       "       [6.7, 3. , 5.2, 2.3, 2. ],\n",
       "       [6. , 2.2, 5. , 1.5, 2. ],\n",
       "       [5.8, 2.7, 4.1, 1. , 1. ],\n",
       "       [5.5, 4.2, 1.4, 0.2, 0. ],\n",
       "       [6.3, 2.5, 5. , 1.9, 2. ],\n",
       "       [5. , 2.3, 3.3, 1. , 1. ],\n",
       "       [6.7, 3. , 5. , 1.7, 1. ],\n",
       "       [6.7, 2.5, 5.8, 1.8, 2. ],\n",
       "       [5.8, 2.7, 5.1, 1.9, 2. ],\n",
       "       [6. , 3.4, 4.5, 1.6, 1. ],\n",
       "       [5.6, 2.5, 3.9, 1.1, 1. ],\n",
       "       [4.9, 3.1, 1.5, 0.1, 0. ],\n",
       "       [4.6, 3.6, 1. , 0.2, 0. ],\n",
       "       [6.3, 3.4, 5.6, 2.4, 2. ],\n",
       "       [6.4, 3.1, 5.5, 1.8, 2. ],\n",
       "       [6.8, 2.8, 4.8, 1.4, 1. ],\n",
       "       [6.1, 2.8, 4. , 1.3, 1. ],\n",
       "       [5.4, 3.7, 1.5, 0.2, 0. ],\n",
       "       [5.2, 2.7, 3.9, 1.4, 1. ],\n",
       "       [6. , 3. , 4.8, 1.8, 2. ],\n",
       "       [7.7, 2.8, 6.7, 2. , 2. ],\n",
       "       [6.7, 3.1, 4.7, 1.5, 1. ],\n",
       "       [6.4, 2.8, 5.6, 2.1, 2. ],\n",
       "       [5.8, 2.7, 3.9, 1.2, 1. ],\n",
       "       [5.5, 2.4, 3.8, 1.1, 1. ],\n",
       "       [4.4, 2.9, 1.4, 0.2, 0. ],\n",
       "       [5.1, 3.7, 1.5, 0.4, 0. ],\n",
       "       [5.4, 3.4, 1.7, 0.2, 0. ],\n",
       "       [4.8, 3.1, 1.6, 0.2, 0. ],\n",
       "       [7. , 3.2, 4.7, 1.4, 1. ],\n",
       "       [6.2, 2.9, 4.3, 1.3, 1. ],\n",
       "       [7.7, 3. , 6.1, 2.3, 2. ],\n",
       "       [4.7, 3.2, 1.6, 0.2, 0. ],\n",
       "       [7.7, 2.6, 6.9, 2.3, 2. ],\n",
       "       [6.9, 3.2, 5.7, 2.3, 2. ],\n",
       "       [5.8, 2.6, 4. , 1.2, 1. ]])"
      ]
     },
     "execution_count": 34,
     "metadata": {},
     "output_type": "execute_result"
    }
   ],
   "source": [
    "iris2"
   ]
  },
  {
   "cell_type": "markdown",
   "metadata": {},
   "source": [
    "### choice()\n",
    "- 주어진 데이터에서 임의로 뽑는다\n",
    "- (**주의**) 반복 선택이 가능하다"
   ]
  },
  {
   "cell_type": "code",
   "execution_count": 39,
   "metadata": {},
   "outputs": [
    {
     "data": {
      "text/plain": [
       "array([0, 1, 2, 3, 4, 5, 6, 7, 8, 9])"
      ]
     },
     "execution_count": 39,
     "metadata": {},
     "output_type": "execute_result"
    }
   ],
   "source": [
    "a = np.arange(10)\n",
    "a"
   ]
  },
  {
   "cell_type": "code",
   "execution_count": 40,
   "metadata": {},
   "outputs": [
    {
     "data": {
      "text/plain": [
       "array([0, 8, 4, 2, 1, 5, 7, 3, 2, 4, 2, 4, 5, 4, 7, 2, 4, 8, 5, 0, 6, 4,\n",
       "       3, 1, 0, 2, 9, 3, 4, 6, 8, 4, 0, 9, 8, 6, 0, 1, 7, 6, 7, 0, 8, 2,\n",
       "       9, 4, 5, 7, 5, 3, 7, 6, 9, 2, 9, 0, 9, 9, 1, 5, 4, 5, 4, 1, 4, 4,\n",
       "       0, 8, 9, 9, 7, 4, 3, 3, 6, 1, 3, 0, 9, 9, 9, 3, 4, 4, 1, 4, 3, 6,\n",
       "       0, 4, 4, 9, 8, 0, 3, 8, 9, 4, 2, 1])"
      ]
     },
     "execution_count": 40,
     "metadata": {},
     "output_type": "execute_result"
    }
   ],
   "source": [
    "np.random.choice(a,100)"
   ]
  },
  {
   "cell_type": "code",
   "execution_count": 41,
   "metadata": {},
   "outputs": [
    {
     "data": {
      "text/plain": [
       "array([1, 1, 1, 0, 0, 1, 0, 1, 0, 0])"
      ]
     },
     "execution_count": 41,
     "metadata": {},
     "output_type": "execute_result"
    }
   ],
   "source": [
    "np.random.choice([0,1], 10)"
   ]
  },
  {
   "cell_type": "code",
   "execution_count": 42,
   "metadata": {},
   "outputs": [
    {
     "data": {
      "text/plain": [
       "array([1, 0, 1, 1, 1, 1, 0, 0, 0, 0])"
      ]
     },
     "execution_count": 42,
     "metadata": {},
     "output_type": "execute_result"
    }
   ],
   "source": [
    "np.random.randint(2, size=10)"
   ]
  },
  {
   "cell_type": "markdown",
   "metadata": {},
   "source": [
    "### seed()\n",
    "- 동일한 실험 결과를 위해 랜덤 발생을 고정시킨다"
   ]
  },
  {
   "cell_type": "code",
   "execution_count": 54,
   "metadata": {},
   "outputs": [
    {
     "data": {
      "text/plain": [
       "array([0, 0, 1, 1, 0, 0, 0, 0, 1, 1])"
      ]
     },
     "metadata": {},
     "output_type": "display_data"
    },
    {
     "data": {
      "text/plain": [
       "array([0, 0, 0, 0, 1, 0, 1, 1, 0, 0])"
      ]
     },
     "metadata": {},
     "output_type": "display_data"
    }
   ],
   "source": [
    "np.random.seed(2019)\n",
    "a = np.random.randint(2, size=10)\n",
    "b = np.random.randint(2, size=10)\n",
    "display(a,b)"
   ]
  },
  {
   "cell_type": "code",
   "execution_count": 44,
   "metadata": {},
   "outputs": [
    {
     "data": {
      "text/plain": [
       "array([0, 0, 1, 1, 0, 0, 0, 0, 1, 1])"
      ]
     },
     "metadata": {},
     "output_type": "display_data"
    },
    {
     "data": {
      "text/plain": [
       "array([0, 0, 0, 0, 1, 0, 1, 1, 0, 0])"
      ]
     },
     "metadata": {},
     "output_type": "display_data"
    }
   ],
   "source": [
    "np.random.seed(2019)\n",
    "a = np.random.randint(2, size=10)\n",
    "b = np.random.randint(2, size=10)\n",
    "display(a,b)"
   ]
  }
 ],
 "metadata": {
  "kernelspec": {
   "display_name": "Python 3",
   "language": "python",
   "name": "python3"
  },
  "language_info": {
   "codemirror_mode": {
    "name": "ipython",
    "version": 3
   },
   "file_extension": ".py",
   "mimetype": "text/x-python",
   "name": "python",
   "nbconvert_exporter": "python",
   "pygments_lexer": "ipython3",
   "version": "3.7.0"
  }
 },
 "nbformat": 4,
 "nbformat_minor": 2
}
