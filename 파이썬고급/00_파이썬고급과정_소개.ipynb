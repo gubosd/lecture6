{
 "cells": [
  {
   "cell_type": "markdown",
   "metadata": {},
   "source": [
    "## 파이썬 고급\n",
    "# 파이썬 고급과정 소개"
   ]
  },
  {
   "attachments": {},
   "cell_type": "markdown",
   "metadata": {},
   "source": [
    "### 교재\n",
    "- 파이썬 라이브러리를 활용한 데이터 분석<br>\n",
    "<img src=\"https://image.aladin.co.kr/product/19194/62/cover500/k602635807_1.jpg\" />\n",
    "- 파이썬 데이터 사이언스 핸드북<br>\n",
    "<a href=\"https://jakevdp.github.io/PythonDataScienceHandbook\">책 홈페이지</a><br>\n",
    "<img src=\"https://image.aladin.co.kr/product/11854/30/cover500/k202531736_1.jpg\" />"
   ]
  },
  {
   "cell_type": "markdown",
   "metadata": {},
   "source": [
    "### 파이썬 데이터 분석을 위한 세가지 핵심 모듈\n",
    "<img src=\"01_01.jpg\">"
   ]
  }
 ],
 "metadata": {
  "kernelspec": {
   "display_name": "Python 3",
   "language": "python",
   "name": "python3"
  },
  "language_info": {
   "codemirror_mode": {
    "name": "ipython",
    "version": 3
   },
   "file_extension": ".py",
   "mimetype": "text/x-python",
   "name": "python",
   "nbconvert_exporter": "python",
   "pygments_lexer": "ipython3",
   "version": "3.7.0"
  }
 },
 "nbformat": 4,
 "nbformat_minor": 2
}
