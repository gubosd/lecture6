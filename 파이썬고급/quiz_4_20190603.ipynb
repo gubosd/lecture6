{
 "cells": [
  {
   "cell_type": "markdown",
   "metadata": {},
   "source": [
    "# 퀴즈 4\n",
    "- 2019.6.3"
   ]
  },
  {
   "cell_type": "markdown",
   "metadata": {},
   "source": [
    "```\n",
    "1. 표준 정규분포를 따르는 10X4 행렬을 만드시오. (변수 이름은 data 이다)\n",
    "\n",
    "2. data 에서 -1 보다 작은 값은 -1로, 1보다 큰 값은 1로 바꾸시오.\n",
    "\n",
    "3. data 에서 첫번째 속성의 값이 0 보다 작은 샘플(행) 들을 뽑아내시오.\n",
    "\n",
    "4. 주사위를 100번 던졌을 때, 각각의 숫자가 나온 횟수를 구하시오.\n",
    "\n",
    "5. 속성이 2개이고 샘플이 1000개인 데이터가 있다.\n",
    "첫번째 속성은 평균 5, 표준편차 2이다.\n",
    "두번째 속성은 0 ~ 10 사이의 균등한 값들이다.\n",
    "이러한 데이터를 하나의 어레이로 만들고 산점도를 그리시오.\n",
    "\n",
    "6. 위에서 구한 데이터를 속성별로 정규화 하시오. (평균이 0, 표준편차가 1이 되게 변형)\n",
    "\n",
    "7. y=x*cos(x) 함수와 y=x 함수를 -10 ~ 10 구간에서 그래프로 그리시오.\n",
    "```"
   ]
  },
  {
   "cell_type": "code",
   "execution_count": 2,
   "metadata": {},
   "outputs": [],
   "source": [
    "import numpy as np"
   ]
  },
  {
   "cell_type": "code",
   "execution_count": 3,
   "metadata": {},
   "outputs": [
    {
     "data": {
      "text/plain": [
       "array([[ 0.57681627, -0.22500521,  0.43722466, -1.44380641],\n",
       "       [-0.56099027,  0.54692274,  0.33872266,  0.76141299],\n",
       "       [ 0.42689543, -0.02005065,  0.81746798,  0.03290114],\n",
       "       [-1.40233251,  1.11803283,  0.0829718 ,  0.72842337],\n",
       "       [-0.66736733, -0.05589819, -1.30119919, -0.32665687],\n",
       "       [ 0.14073568, -0.80165384,  2.15174074, -0.44688959],\n",
       "       [ 0.26343209,  0.06147448,  1.12631039, -0.41270974],\n",
       "       [-0.59513238, -1.56484762,  0.53144073, -1.05176462],\n",
       "       [ 0.67332623, -0.61820828, -0.95650863,  0.25061229],\n",
       "       [ 0.13565662, -1.57450609,  1.78824487, -0.24858288]])"
      ]
     },
     "execution_count": 3,
     "metadata": {},
     "output_type": "execute_result"
    }
   ],
   "source": [
    "data = np.random.randn(10,4)\n",
    "data"
   ]
  },
  {
   "cell_type": "code",
   "execution_count": 9,
   "metadata": {},
   "outputs": [
    {
     "data": {
      "text/plain": [
       "array([[ 0.57681627, -0.22500521,  0.43722466, -1.        ],\n",
       "       [-0.56099027,  0.54692274,  0.33872266,  0.76141299],\n",
       "       [ 0.42689543, -0.02005065,  0.81746798,  0.03290114],\n",
       "       [-1.        ,  1.        ,  0.0829718 ,  0.72842337],\n",
       "       [-0.66736733, -0.05589819, -1.        , -0.32665687],\n",
       "       [ 0.14073568, -0.80165384,  1.        , -0.44688959],\n",
       "       [ 0.26343209,  0.06147448,  1.        , -0.41270974],\n",
       "       [-0.59513238, -1.        ,  0.53144073, -1.        ],\n",
       "       [ 0.67332623, -0.61820828, -0.95650863,  0.25061229],\n",
       "       [ 0.13565662, -1.        ,  1.        , -0.24858288]])"
      ]
     },
     "execution_count": 9,
     "metadata": {},
     "output_type": "execute_result"
    }
   ],
   "source": [
    "data2 = np.where(data<-1, -1, data)\n",
    "data3 = np.where(data2>1, 1, data2)\n",
    "data3\n",
    "\n",
    "np.where(data<-1, -1, np.where(data>1, 1, data))"
   ]
  },
  {
   "cell_type": "code",
   "execution_count": 4,
   "metadata": {},
   "outputs": [
    {
     "data": {
      "text/plain": [
       "array([[ 0.57681627, -0.22500521,  0.43722466, -1.        ],\n",
       "       [-0.56099027,  0.54692274,  0.33872266,  0.76141299],\n",
       "       [ 0.42689543, -0.02005065,  0.81746798,  0.03290114],\n",
       "       [-1.        ,  1.        ,  0.0829718 ,  0.72842337],\n",
       "       [-0.66736733, -0.05589819, -1.        , -0.32665687],\n",
       "       [ 0.14073568, -0.80165384,  1.        , -0.44688959],\n",
       "       [ 0.26343209,  0.06147448,  1.        , -0.41270974],\n",
       "       [-0.59513238, -1.        ,  0.53144073, -1.        ],\n",
       "       [ 0.67332623, -0.61820828, -0.95650863,  0.25061229],\n",
       "       [ 0.13565662, -1.        ,  1.        , -0.24858288]])"
      ]
     },
     "execution_count": 4,
     "metadata": {},
     "output_type": "execute_result"
    }
   ],
   "source": [
    "data[data<-1] = -1\n",
    "data[data>1] = 1\n",
    "data"
   ]
  },
  {
   "cell_type": "code",
   "execution_count": 5,
   "metadata": {},
   "outputs": [
    {
     "data": {
      "text/plain": [
       "array([[-0.56099027,  0.54692274,  0.33872266,  0.76141299],\n",
       "       [-1.        ,  1.        ,  0.0829718 ,  0.72842337],\n",
       "       [-0.66736733, -0.05589819, -1.        , -0.32665687],\n",
       "       [-0.59513238, -1.        ,  0.53144073, -1.        ]])"
      ]
     },
     "execution_count": 5,
     "metadata": {},
     "output_type": "execute_result"
    }
   ],
   "source": [
    "data[data[:,0]<0]"
   ]
  },
  {
   "cell_type": "code",
   "execution_count": 10,
   "metadata": {},
   "outputs": [
    {
     "data": {
      "text/plain": [
       "array([5, 6, 5, 2, 6, 4, 4, 3, 6, 6, 1, 6, 4, 2, 1, 3, 6, 6, 6, 1, 6, 6,\n",
       "       2, 1, 3, 4, 3, 2, 2, 1, 4, 6, 6, 4, 6, 4, 5, 5, 2, 3, 6, 1, 4, 4,\n",
       "       1, 1, 4, 6, 4, 6, 4, 6, 5, 4, 4, 1, 6, 4, 1, 1, 5, 2, 5, 1, 5, 5,\n",
       "       6, 3, 1, 1, 3, 3, 4, 1, 5, 4, 1, 5, 2, 3, 6, 1, 4, 3, 5, 6, 3, 4,\n",
       "       5, 6, 1, 6, 3, 1, 4, 3, 2, 4, 4, 2])"
      ]
     },
     "execution_count": 10,
     "metadata": {},
     "output_type": "execute_result"
    }
   ],
   "source": [
    "#dice = np.random.randint(6, size=100)\n",
    "dice = np.random.randint(1, 7, size=100)\n",
    "\n",
    "dice"
   ]
  },
  {
   "cell_type": "code",
   "execution_count": 11,
   "metadata": {},
   "outputs": [
    {
     "data": {
      "text/plain": [
       "array([ 0, 19, 10, 13, 22, 13, 23], dtype=int64)"
      ]
     },
     "execution_count": 11,
     "metadata": {},
     "output_type": "execute_result"
    }
   ],
   "source": [
    "np.bincount(dice)"
   ]
  },
  {
   "cell_type": "code",
   "execution_count": 12,
   "metadata": {},
   "outputs": [
    {
     "data": {
      "text/plain": [
       "array([[0., 0.],\n",
       "       [0., 0.],\n",
       "       [0., 0.],\n",
       "       ...,\n",
       "       [0., 0.],\n",
       "       [0., 0.],\n",
       "       [0., 0.]])"
      ]
     },
     "execution_count": 12,
     "metadata": {},
     "output_type": "execute_result"
    }
   ],
   "source": [
    "'''\n",
    "5. 속성이 2개이고 샘플이 1000개인 데이터가 있다.\n",
    "첫번째 속성은 평균 5, 표준편차 2이다.\n",
    "두번째 속성은 0 ~ 10 사이의 균등한 값들이다.\n",
    "이러한 데이터를 하나의 어레이로 만들고 산점도를 그리시오.'''\n",
    "\n",
    "data = np.zeros([1000, 2])\n",
    "data"
   ]
  },
  {
   "cell_type": "code",
   "execution_count": 13,
   "metadata": {},
   "outputs": [
    {
     "data": {
      "text/plain": [
       "(1000, 2)"
      ]
     },
     "execution_count": 13,
     "metadata": {},
     "output_type": "execute_result"
    }
   ],
   "source": [
    "data.shape"
   ]
  },
  {
   "cell_type": "code",
   "execution_count": 16,
   "metadata": {},
   "outputs": [
    {
     "data": {
      "text/plain": [
       "array([[ 8.17337761,  0.        ],\n",
       "       [-2.69925502,  0.        ],\n",
       "       [ 5.26464271,  0.        ],\n",
       "       ...,\n",
       "       [ 6.2115899 ,  0.        ],\n",
       "       [ 3.51818909,  0.        ],\n",
       "       [ 3.64967511,  0.        ]])"
      ]
     },
     "execution_count": 16,
     "metadata": {},
     "output_type": "execute_result"
    }
   ],
   "source": [
    "data[:,0] = np.random.normal(5,2,size=1000)\n",
    "data"
   ]
  },
  {
   "cell_type": "code",
   "execution_count": 18,
   "metadata": {},
   "outputs": [
    {
     "data": {
      "text/plain": [
       "array([[ 8.17337761,  3.1783292 ],\n",
       "       [-2.69925502,  8.37508916],\n",
       "       [ 5.26464271,  9.07053499],\n",
       "       ...,\n",
       "       [ 6.2115899 ,  8.63362349],\n",
       "       [ 3.51818909,  7.28404634],\n",
       "       [ 3.64967511,  2.30829124]])"
      ]
     },
     "execution_count": 18,
     "metadata": {},
     "output_type": "execute_result"
    }
   ],
   "source": [
    "#data[:,1] = np.random.uniform(0,10,size=1000)\n",
    "data[:,1] = np.random.rand(1000)*10\n",
    "data"
   ]
  },
  {
   "cell_type": "code",
   "execution_count": 19,
   "metadata": {},
   "outputs": [
    {
     "data": {
      "text/plain": [
       "array([[ 1.55842429, -0.60171409],\n",
       "       [-3.74072667,  1.21062157],\n",
       "       [ 0.14075243,  1.4531537 ],\n",
       "       ...,\n",
       "       [ 0.60227967,  1.3007837 ],\n",
       "       [-0.71044173,  0.8301276 ],\n",
       "       [-0.6463575 , -0.90513408]])"
      ]
     },
     "execution_count": 19,
     "metadata": {},
     "output_type": "execute_result"
    }
   ],
   "source": [
    "data_norm = (data - data.mean(axis=0))/data.std(axis=0)\n",
    "data_norm"
   ]
  },
  {
   "cell_type": "code",
   "execution_count": 20,
   "metadata": {},
   "outputs": [
    {
     "data": {
      "text/plain": [
       "array([-1.02073905e-15, -4.52526905e-16])"
      ]
     },
     "execution_count": 20,
     "metadata": {},
     "output_type": "execute_result"
    }
   ],
   "source": [
    "data_norm.mean(axis=0)"
   ]
  },
  {
   "cell_type": "code",
   "execution_count": 21,
   "metadata": {},
   "outputs": [
    {
     "data": {
      "text/plain": [
       "array([1., 1.])"
      ]
     },
     "execution_count": 21,
     "metadata": {},
     "output_type": "execute_result"
    }
   ],
   "source": [
    "data_norm.std(axis=0)"
   ]
  },
  {
   "cell_type": "code",
   "execution_count": 24,
   "metadata": {},
   "outputs": [
    {
     "data": {
      "image/png": "[encoded data removed]",
      "text/plain": [
       "<Figure size 432x288 with 1 Axes>"
      ]
     },
     "metadata": {
      "needs_background": "light"
     },
     "output_type": "display_data"
    }
   ],
   "source": [
    "import matplotlib.pyplot as plt\n",
    "\n",
    "plt.hist(data_norm[:,0])\n",
    "plt.show()"
   ]
  },
  {
   "cell_type": "code",
   "execution_count": 25,
   "metadata": {},
   "outputs": [
    {
     "data": {
      "image/png": "[encoded data removed]",
      "text/plain": [
       "<Figure size 432x288 with 1 Axes>"
      ]
     },
     "metadata": {
      "needs_background": "light"
     },
     "output_type": "display_data"
    }
   ],
   "source": [
    "plt.hist(data_norm[:,1])\n",
    "plt.show()"
   ]
  },
  {
   "cell_type": "code",
   "execution_count": 27,
   "metadata": {
    "collapsed": true
   },
   "outputs": [
    {
     "data": {
      "text/plain": [
       "array([ 8.39071529e+00,  8.80299241e+00,  9.11817747e+00,  9.33493933e+00,\n",
       "        9.45300342e+00,  9.47313548e+00,  9.39711460e+00,  9.22769553e+00,\n",
       "        8.96856132e+00,  8.62426658e+00,  8.20017236e+00,  7.70237336e+00,\n",
       "        7.13761852e+00,  6.51322582e+00,  5.83699241e+00,  5.11710117e+00,\n",
       "        4.36202469e+00,  3.58042781e+00,  2.78106986e+00,  1.97270765e+00,\n",
       "        1.16400027e+00,  3.63416793e-01, -4.20852280e-01, -1.18097874e+00,\n",
       "       -1.90957480e+00, -2.59976488e+00, -3.24525022e+00, -3.84036588e+00,\n",
       "       -4.38012946e+00, -4.86028133e+00, -5.27731578e+00, -5.62850319e+00,\n",
       "       -5.91190293e+00, -6.12636709e+00, -6.27153511e+00, -6.34781957e+00,\n",
       "       -6.35638348e+00, -6.29910941e+00, -6.17856100e+00, -5.99793747e+00,\n",
       "       -5.76102172e+00, -5.47212274e+00, -5.13601320e+00, -4.75786287e+00,\n",
       "       -4.34316892e+00, -3.89768376e+00, -3.42734153e+00, -2.93818398e+00,\n",
       "       -2.43628669e+00, -1.92768649e+00, -1.41831093e+00, -9.13910610e-01,\n",
       "       -4.19995121e-01,  5.82267183e-02,  5.15901624e-01,  9.48581097e-01,\n",
       "        1.35226463e+00,  1.72343644e+00,  2.05909545e+00,  2.35677818e+00,\n",
       "        2.61457448e+00,  2.83113599e+00,  3.00567731e+00,  3.13797012e+00,\n",
       "        3.22833030e+00,  3.27759841e+00,  3.28711385e+00,  3.25868324e+00,\n",
       "        3.19454328e+00,  3.09731897e+00,  2.96997749e+00,  2.81577868e+00,\n",
       "        2.63822255e+00,  2.44099478e+00,  2.22791076e+00,  2.00285904e+00,\n",
       "        1.76974492e+00,  1.53243485e+00,  1.29470246e+00,  1.06017682e+00,\n",
       "        8.32293673e-01,  6.14250177e-01,  4.08963770e-01,  2.19035640e-01,\n",
       "        4.67192357e-02, -1.06105803e-01, -2.37954000e-01, -3.47748477e-01,\n",
       "       -4.34829305e-01, -4.98955734e-01, -5.40302306e-01, -5.59448971e-01,\n",
       "       -5.57365367e-01, -5.35389531e-01, -4.95201369e-01, -4.38791281e-01,\n",
       "       -3.68424398e-01, -2.86600947e-01, -1.96013316e-01, -9.95004165e-02,\n",
       "       -3.55271368e-14,  9.95004165e-02,  1.96013316e-01,  2.86600947e-01,\n",
       "        3.68424398e-01,  4.38791281e-01,  4.95201369e-01,  5.35389531e-01,\n",
       "        5.57365367e-01,  5.59448971e-01,  5.40302306e-01,  4.98955734e-01,\n",
       "        4.34829305e-01,  3.47748477e-01,  2.37954000e-01,  1.06105803e-01,\n",
       "       -4.67192357e-02, -2.19035640e-01, -4.08963770e-01, -6.14250177e-01,\n",
       "       -8.32293673e-01, -1.06017682e+00, -1.29470246e+00, -1.53243485e+00,\n",
       "       -1.76974492e+00, -2.00285904e+00, -2.22791076e+00, -2.44099478e+00,\n",
       "       -2.63822255e+00, -2.81577868e+00, -2.96997749e+00, -3.09731897e+00,\n",
       "       -3.19454328e+00, -3.25868324e+00, -3.28711385e+00, -3.27759841e+00,\n",
       "       -3.22833030e+00, -3.13797012e+00, -3.00567731e+00, -2.83113599e+00,\n",
       "       -2.61457448e+00, -2.35677818e+00, -2.05909545e+00, -1.72343644e+00,\n",
       "       -1.35226463e+00, -9.48581097e-01, -5.15901624e-01, -5.82267183e-02,\n",
       "        4.19995121e-01,  9.13910610e-01,  1.41831093e+00,  1.92768649e+00,\n",
       "        2.43628669e+00,  2.93818398e+00,  3.42734153e+00,  3.89768376e+00,\n",
       "        4.34316892e+00,  4.75786287e+00,  5.13601320e+00,  5.47212274e+00,\n",
       "        5.76102172e+00,  5.99793747e+00,  6.17856100e+00,  6.29910941e+00,\n",
       "        6.35638348e+00,  6.34781957e+00,  6.27153511e+00,  6.12636709e+00,\n",
       "        5.91190293e+00,  5.62850319e+00,  5.27731578e+00,  4.86028133e+00,\n",
       "        4.38012946e+00,  3.84036588e+00,  3.24525022e+00,  2.59976488e+00,\n",
       "        1.90957480e+00,  1.18097874e+00,  4.20852280e-01, -3.63416793e-01,\n",
       "       -1.16400027e+00, -1.97270765e+00, -2.78106986e+00, -3.58042781e+00,\n",
       "       -4.36202469e+00, -5.11710117e+00, -5.83699241e+00, -6.51322582e+00,\n",
       "       -7.13761852e+00, -7.70237336e+00, -8.20017236e+00, -8.62426658e+00,\n",
       "       -8.96856132e+00, -9.22769553e+00, -9.39711460e+00, -9.47313548e+00,\n",
       "       -9.45300342e+00, -9.33493933e+00, -9.11817747e+00, -8.80299241e+00])"
      ]
     },
     "execution_count": 27,
     "metadata": {},
     "output_type": "execute_result"
    }
   ],
   "source": [
    "'''\n",
    "7. y=x*cos(x) 함수와 y=x 함수를 -10 ~ 10 구간에서 그래프로 그리시오.\n",
    "'''\n",
    "\n",
    "x = np.arange(-10,10,0.1)\n",
    "y = x * np.cos(x)\n",
    "y"
   ]
  },
  {
   "cell_type": "code",
   "execution_count": 32,
   "metadata": {},
   "outputs": [
    {
     "data": {
      "text/plain": [
       "[<matplotlib.lines.Line2D at 0x2182a530208>]"
      ]
     },
     "execution_count": 32,
     "metadata": {},
     "output_type": "execute_result"
    },
    {
     "data": {
      "image/png": "[encoded data removed]",
      "text/plain": [
       "<Figure size 432x288 with 1 Axes>"
      ]
     },
     "metadata": {
      "needs_background": "light"
     },
     "output_type": "display_data"
    }
   ],
   "source": [
    "plt.plot(x, np.exp(-x**2))\n",
    "#plt.plot(x, x, 'r:')\n",
    "#plt.plot(x,-x, 'b--')"
   ]
  },
  {
   "cell_type": "code",
   "execution_count": null,
   "metadata": {},
   "outputs": [],
   "source": []
  }
 ],
 "metadata": {
  "kernelspec": {
   "display_name": "Python 3",
   "language": "python",
   "name": "python3"
  },
  "language_info": {
   "codemirror_mode": {
    "name": "ipython",
    "version": 3
   },
   "file_extension": ".py",
   "mimetype": "text/x-python",
   "name": "python",
   "nbconvert_exporter": "python",
   "pygments_lexer": "ipython3",
   "version": "3.7.0"
  }
 },
 "nbformat": 4,
 "nbformat_minor": 2
}
