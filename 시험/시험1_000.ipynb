{
 "cells": [
  {
   "cell_type": "markdown",
   "metadata": {},
   "source": [
    "### 파이썬 기반 빅데이터 분석 실무자 양성과정\n",
    "- 훈련기간 : 2019.5.20 ~ 2019.7.15 (40일)\n",
    "- 강사 : 김현호\n",
    "\n",
    "# 시험 1. 분석용 데이터 구축"
   ]
  },
  {
   "cell_type": "markdown",
   "metadata": {},
   "source": [
    "## ※ 수강생 : OOO\n",
    "---"
   ]
  },
  {
   "cell_type": "markdown",
   "metadata": {},
   "source": [
    "### 문제 1-1\n",
    "- 1 과 1. 의 차이를 type() 함수를 이용하여 설명하라.\n",
    "- '파이썬 프로그래밍' 의 문자열 길이를 구하라.\n",
    "- 문자열 길이를 구하는 방법을 이용하여 정수 34567 의 자릿수를 구하라."
   ]
  },
  {
   "cell_type": "markdown",
   "metadata": {},
   "source": [
    "### 문제 1-2\n",
    "- 구구단을 출력하는 문제이다.\n",
    "```\n",
    "for n in range(81):\n",
    "    print(______)\n",
    "```\n",
    "- 위의 밑줄 친 부분을 채워, 아래와 같이 출력되도록 하라. (몫과 나머지 이용)\n",
    "```\n",
    "1, 1, 1\n",
    "1, 2, 2\n",
    "...\n",
    "9, 8, 72\n",
    "9, 9, 81\n",
    "```"
   ]
  },
  {
   "cell_type": "markdown",
   "metadata": {},
   "source": [
    "### 문제 1-3\n",
    "- 아래의 코드에서 문자열 s 를 ':' 으로 구분하여 리스트로 저장하라.\n",
    "- 앞 뒤 공백은 제거하고 숫자는 숫자 타입으로 변환하라."
   ]
  },
  {
   "cell_type": "code",
   "execution_count": 1,
   "metadata": {},
   "outputs": [],
   "source": [
    "s = '  둘리:7:우주:18.9\\n'"
   ]
  },
  {
   "cell_type": "markdown",
   "metadata": {},
   "source": [
    "### 문제 1-4\n",
    "- 아래의 코드에서 [5,6] 을 추가하는 두가지 방법을 적용하거나 설명하라."
   ]
  },
  {
   "cell_type": "code",
   "execution_count": 2,
   "metadata": {},
   "outputs": [],
   "source": [
    "l = [[1,2], [3,4]]\n",
    "# 결과 [[1,2],[3,4],[5,6]]"
   ]
  },
  {
   "cell_type": "markdown",
   "metadata": {},
   "source": [
    "### 문제 1-5\n",
    "- 아래에서 리스트의 인덱스 기능을 이용하여 5 를 출력하라."
   ]
  },
  {
   "cell_type": "code",
   "execution_count": 3,
   "metadata": {},
   "outputs": [],
   "source": [
    "l = [[1,2], [3,4], [5,6]]"
   ]
  },
  {
   "cell_type": "markdown",
   "metadata": {},
   "source": [
    "### 문제 1-6\n",
    "- [0,1,4,9,16,25] 의 리스트를 일반적인 for 문을 사용하는 방법과 리스트 컴프리핸션을 사용하는 방법의 두가지 방법으로 구하라."
   ]
  },
  {
   "cell_type": "markdown",
   "metadata": {},
   "source": [
    "### 문제 1-7\n",
    "- np.random.rand(), np.random.randn(), np.random.randint() 세 함수의 차이점을 설명하라."
   ]
  },
  {
   "cell_type": "markdown",
   "metadata": {},
   "source": [
    "### 문제 1-8\n",
    "- \"iris.csv\" 를 읽어오면 (150,5) 의 Numpy 어레이로 만들 수 있다.\n",
    "- 데이터 부분과 레이블 부분을 X 와 y 로 분리하라.\n",
    "- X의 4가지 속성을 정규화 하라. 즉, 각 속성은 평균은 0, 표준편차가 1이 되어야 한다."
   ]
  },
  {
   "cell_type": "markdown",
   "metadata": {},
   "source": [
    "### 문제 1-9\n",
    "- 아래의 코드에서 마지막 칼럼의 값이 0 보다 큰 샘플을 모두 구하라."
   ]
  },
  {
   "cell_type": "code",
   "execution_count": 7,
   "metadata": {},
   "outputs": [],
   "source": [
    "import numpy as np\n",
    "a = np.random.randn(10,3)"
   ]
  },
  {
   "cell_type": "markdown",
   "metadata": {},
   "source": [
    "### 문제 1-10\n",
    "- 아래의 특징을 가지는 100X3 의 데이터를 만들어라.\n",
    "- 첫번째 속성은 표준정규분포를 따르고 두번째 속성은 0~1 사이의 균등분포를 따르는 난수로 이루어진다.\n",
    "- 마지막 속성은 앞부분 50개는 0, 뒷부분 50개는 1이다."
   ]
  }
 ],
 "metadata": {
  "kernelspec": {
   "display_name": "Python 3",
   "language": "python",
   "name": "python3"
  },
  "language_info": {
   "codemirror_mode": {
    "name": "ipython",
    "version": 3
   },
   "file_extension": ".py",
   "mimetype": "text/x-python",
   "name": "python",
   "nbconvert_exporter": "python",
   "pygments_lexer": "ipython3",
   "version": "3.7.0"
  }
 },
 "nbformat": 4,
 "nbformat_minor": 2
}
