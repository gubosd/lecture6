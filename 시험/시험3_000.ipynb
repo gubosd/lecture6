{
 "cells": [
  {
   "cell_type": "markdown",
   "metadata": {},
   "source": [
    "### 파이썬 기반 빅데이터 분석 실무자 양성과정\n",
    "- 훈련기간 : 2019.5.20 ~ 2019.7.15 (40일)\n",
    "- 강사 : 김현호\n",
    "\n",
    "# 시험 3. 머신러닝 기반 데이터 분석"
   ]
  },
  {
   "cell_type": "markdown",
   "metadata": {},
   "source": [
    "## ※ 수강생 : OOO\n",
    "---"
   ]
  },
  {
   "cell_type": "markdown",
   "metadata": {},
   "source": [
    "### 문제 3-1\n",
    "- 지도학습과 비지도학습의 차이점을 간단히 설명하라.\n",
    "- 머신러닝의 주요 과제는 '회귀' 와 '분류' 이다. 이 둘의 차이점을 간단히 설명하라."
   ]
  },
  {
   "cell_type": "markdown",
   "metadata": {},
   "source": [
    "### 문제 3-2\n",
    "- 머신러닝에서 과대적합과 과소적합은 아주 중요한 문제이다.\n",
    "- 과대적합과 과소적합에 대해 핵심 내용을 설명하라."
   ]
  },
  {
   "cell_type": "markdown",
   "metadata": {},
   "source": [
    "### 문제 3-3\n",
    "- 머신러닝에 적용하는 대표적인 비용함수(Cost Function)은 MSE(Mean Squared Error) 이다.\n",
    "- 아이리스 데이터의 sepal length 와 sepal width 의 관계에서 선형회귀를 적용하한 후 MSE 값을 구하라.\n",
    "> 학습/테스트 데이터 분리를 하지 않고 적용한 후, pred_y 와 y 값의 차이를 이용한다."
   ]
  },
  {
   "cell_type": "markdown",
   "metadata": {},
   "source": [
    "### 문제 3-4\n",
    "- 분류 모델인 k-NN, SVM, 결정트리 에서 각각 중요한 옵션들이 있다.\n",
    "- 이 옵션들을 설명하고 이 값들이 과적합에 어떤 영향을 주는지 설명하라."
   ]
  },
  {
   "cell_type": "markdown",
   "metadata": {},
   "source": [
    "### 문제 3-5\n",
    "- 로지스틱 회귀에 적용하는 시그모이드(sigmoid) 함수를 그래프로 그려라."
   ]
  },
  {
   "cell_type": "markdown",
   "metadata": {},
   "source": [
    "### 문제 3-6\n",
    "- SVM 모델에서는 데이터의 정규화가 꼭 필요하다.\n",
    "- 데이터를 정규화하는 이유를 설명하고, 유방암 데이터에서 정규화가 특별히 중요한 이유를 간단히 설명하라."
   ]
  },
  {
   "cell_type": "markdown",
   "metadata": {},
   "source": [
    "### 문제 3-7\n",
    "- 결정트리 모델에서 과적합을 피하기 위해 여러가지 기법들을 적용할 수 있다.\n",
    "- 이와 관련된 결정트리 모델의 여러가지 옵션들을 설명하라."
   ]
  },
  {
   "cell_type": "markdown",
   "metadata": {},
   "source": [
    "### 문제 3-8\n",
    "- 유방암 데이터에 군집 알고리즘인 k-means 를 적용하여 구분한 결과와 실제 데이터와 얼마나 차이가 나는 지를 설명하라.\n",
    "- 첫번째 속성과 마지막 속성을 이용하여 k-means 의 결과를 산점도로 그려라."
   ]
  },
  {
   "cell_type": "markdown",
   "metadata": {},
   "source": [
    "### 문제 3-9\n",
    "- 유방암 데이터에 PCA(주성분 분석) 을 적용하여 주성분 2개를 구하라.\n",
    "- 이들 주성분이 각각 원본 데이터의 어떤 속성과 관련이 있는지를 설명하라."
   ]
  },
  {
   "cell_type": "markdown",
   "metadata": {},
   "source": [
    "### 문제 3-10\n",
    "- 필기체 숫자인 MNIST 에 kNN 을 적용하여 실제값과 예측값이 어떻게 다른지를 10X10 행렬 형태의 판정표를 만들어라.\n",
    "- 판정표의 행은 실제 숫자, 열은 예측 숫자를 나타낸다."
   ]
  }
 ],
 "metadata": {
  "kernelspec": {
   "display_name": "Python 3",
   "language": "python",
   "name": "python3"
  },
  "language_info": {
   "codemirror_mode": {
    "name": "ipython",
    "version": 3
   },
   "file_extension": ".py",
   "mimetype": "text/x-python",
   "name": "python",
   "nbconvert_exporter": "python",
   "pygments_lexer": "ipython3",
   "version": "3.7.0"
  }
 },
 "nbformat": 4,
 "nbformat_minor": 2
}
