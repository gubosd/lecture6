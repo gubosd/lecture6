{
 "cells": [
  {
   "cell_type": "code",
   "execution_count": 1,
   "metadata": {},
   "outputs": [],
   "source": [
    "import numpy as np\n",
    "import matplotlib.pyplot as plt"
   ]
  },
  {
   "cell_type": "code",
   "execution_count": 3,
   "metadata": {},
   "outputs": [],
   "source": [
    "from sklearn.datasets import load_breast_cancer\n",
    "\n",
    "cancer = load_breast_cancer()"
   ]
  },
  {
   "cell_type": "code",
   "execution_count": 2,
   "metadata": {},
   "outputs": [],
   "source": [
    "from sklearn.svm import SVC"
   ]
  },
  {
   "cell_type": "code",
   "execution_count": 4,
   "metadata": {},
   "outputs": [],
   "source": [
    "X = cancer.data\n",
    "y = cancer.target"
   ]
  },
  {
   "cell_type": "code",
   "execution_count": 11,
   "metadata": {},
   "outputs": [
    {
     "data": {
      "text/plain": [
       "1.0"
      ]
     },
     "execution_count": 11,
     "metadata": {},
     "output_type": "execute_result"
    }
   ],
   "source": [
    "svc = SVC()\n",
    "svc.fit(X, y)\n",
    "svc.score(X, y)"
   ]
  },
  {
   "cell_type": "markdown",
   "metadata": {},
   "source": [
    "- 학습용과 테스트용 데이터 분리"
   ]
  },
  {
   "cell_type": "code",
   "execution_count": 39,
   "metadata": {},
   "outputs": [],
   "source": [
    "from sklearn.model_selection import train_test_split\n",
    "\n",
    "X_train, X_test, y_train, y_test = train_test_split(X, y)"
   ]
  },
  {
   "cell_type": "code",
   "execution_count": 40,
   "metadata": {},
   "outputs": [
    {
     "data": {
      "text/plain": [
       "0.5944055944055944"
      ]
     },
     "execution_count": 40,
     "metadata": {},
     "output_type": "execute_result"
    }
   ],
   "source": [
    "svc = SVC()\n",
    "svc.fit(X_train, y_train)\n",
    "svc.score(X_test, y_test)"
   ]
  },
  {
   "cell_type": "markdown",
   "metadata": {},
   "source": [
    "- 정규화 적용"
   ]
  },
  {
   "cell_type": "code",
   "execution_count": 41,
   "metadata": {},
   "outputs": [],
   "source": [
    "m = X_train.mean(axis=0)\n",
    "s = X_train.std(axis=0)\n",
    "\n",
    "X_train_norm = (X_train - m) / s\n",
    "X_test_norm =  (X_test - m) / s"
   ]
  },
  {
   "cell_type": "code",
   "execution_count": 42,
   "metadata": {},
   "outputs": [
    {
     "data": {
      "text/plain": [
       "0.993006993006993"
      ]
     },
     "execution_count": 42,
     "metadata": {},
     "output_type": "execute_result"
    }
   ],
   "source": [
    "svc = SVC()\n",
    "svc.fit(X_train_norm, y_train)\n",
    "svc.score(X_test_norm, y_test)"
   ]
  },
  {
   "cell_type": "markdown",
   "metadata": {},
   "source": [
    "- 주요 옵션 : C, gamma\n",
    "gamma 의 기본값은 1/속성객수 이다. 즉 1/30."
   ]
  },
  {
   "cell_type": "code",
   "execution_count": 47,
   "metadata": {},
   "outputs": [
    {
     "name": "stdout",
     "output_type": "stream",
     "text": [
      "[0.9300699300699301, 0.986013986013986, 0.986013986013986, 0.6013986013986014, 0.5944055944055944]\n"
     ]
    }
   ],
   "source": [
    "#gs = [1/100, 1/90, 1/80, 1/70, 1/60, 1/50, 1/40, 1/30, 1/20, 1/10]\n",
    "gs = [0.001, 0.01, 0.1, 1, 10]\n",
    "#gs = [0.01, 0.02, 0.03, 0.04]\n",
    "점수 = []\n",
    "\n",
    "for g in gs:\n",
    "    svc = SVC(gamma=g)\n",
    "    svc.fit(X_train_norm, y_train)\n",
    "    s = svc.score(X_test_norm, y_test)\n",
    "    점수.append(s)\n",
    "    \n",
    "print(점수)"
   ]
  },
  {
   "cell_type": "code",
   "execution_count": 45,
   "metadata": {},
   "outputs": [
    {
     "name": "stdout",
     "output_type": "stream",
     "text": [
      "[0.5944055944055944, 0.5944055944055944, 0.9300699300699301, 0.986013986013986, 0.993006993006993, 0.986013986013986]\n"
     ]
    }
   ],
   "source": [
    "Cs = [0.001, 0.01, 0.1, 1, 10, 100]\n",
    "점수 = []\n",
    "\n",
    "for c in Cs:\n",
    "    svc = SVC(C=c, gamma=0.01)\n",
    "    svc.fit(X_train_norm, y_train)\n",
    "    s = svc.score(X_test_norm, y_test)\n",
    "    점수.append(s)\n",
    "    \n",
    "print(점수)"
   ]
  },
  {
   "cell_type": "code",
   "execution_count": 48,
   "metadata": {},
   "outputs": [
    {
     "data": {
      "text/plain": [
       "([<matplotlib.axis.XTick at 0x1d983b19208>,\n",
       "  <matplotlib.axis.XTick at 0x1d983b0db38>,\n",
       "  <matplotlib.axis.XTick at 0x1d983b0da20>,\n",
       "  <matplotlib.axis.XTick at 0x1d983b346d8>,\n",
       "  <matplotlib.axis.XTick at 0x1d983b34ba8>,\n",
       "  <matplotlib.axis.XTick at 0x1d983b3a160>],\n",
       " <a list of 6 Text xticklabel objects>)"
      ]
     },
     "execution_count": 48,
     "metadata": {},
     "output_type": "execute_result"
    },
    {
     "data": {
      "image/png": "[encoded data removed]",
      "text/plain": [
       "<Figure size 432x288 with 1 Axes>"
      ]
     },
     "metadata": {
      "needs_background": "light"
     },
     "output_type": "display_data"
    }
   ],
   "source": [
    "plt.plot(점수, 'ro-')\n",
    "plt.xticks(range(len(Cs)), Cs)\n",
    "#plt.xticks(range(6), Cs)"
   ]
  }
 ],
 "metadata": {
  "kernelspec": {
   "display_name": "Python 3",
   "language": "python",
   "name": "python3"
  },
  "language_info": {
   "codemirror_mode": {
    "name": "ipython",
    "version": 3
   },
   "file_extension": ".py",
   "mimetype": "text/x-python",
   "name": "python",
   "nbconvert_exporter": "python",
   "pygments_lexer": "ipython3",
   "version": "3.7.0"
  }
 },
 "nbformat": 4,
 "nbformat_minor": 2
}
