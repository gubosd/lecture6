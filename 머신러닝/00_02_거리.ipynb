{
 "cells": [
  {
   "cell_type": "markdown",
   "metadata": {},
   "source": [
    "## 머신러닝\n",
    "# 거리(distance) 개념"
   ]
  },
  {
   "cell_type": "code",
   "execution_count": 6,
   "metadata": {},
   "outputs": [],
   "source": [
    "import numpy as np\n",
    "import pandas as pd\n",
    "import matplotlib.pyplot as plt"
   ]
  },
  {
   "cell_type": "code",
   "execution_count": 7,
   "metadata": {},
   "outputs": [
    {
     "data": {
      "text/plain": [
       "['SepalLength', 'SepalWidth', 'PetalLength', 'PetalWidth']"
      ]
     },
     "execution_count": 7,
     "metadata": {},
     "output_type": "execute_result"
    }
   ],
   "source": [
    "s = open('iris.csv').readline()\n",
    "#header = [i.strip('\"') for i in s.strip().split(',')][:-1]\n",
    "header = s.strip().split(',')[:-1]\n",
    "header"
   ]
  },
  {
   "cell_type": "code",
   "execution_count": 8,
   "metadata": {},
   "outputs": [],
   "source": [
    "labels = ['Iris-setosa', 'Iris-versicolor', 'Iris-virginica']\n",
    "iris = np.loadtxt('iris.csv', delimiter=',', skiprows=1, converters={4: lambda s: labels.index(s.decode())})"
   ]
  },
  {
   "cell_type": "code",
   "execution_count": 9,
   "metadata": {},
   "outputs": [
    {
     "data": {
      "text/plain": [
       "(150, 5)"
      ]
     },
     "metadata": {},
     "output_type": "display_data"
    },
    {
     "data": {
      "text/plain": [
       "array([[5.1, 3.5, 1.4, 0.2, 0. ],\n",
       "       [4.9, 3. , 1.4, 0.2, 0. ],\n",
       "       [4.7, 3.2, 1.3, 0.2, 0. ],\n",
       "       [4.6, 3.1, 1.5, 0.2, 0. ],\n",
       "       [5. , 3.6, 1.4, 0.2, 0. ]])"
      ]
     },
     "metadata": {},
     "output_type": "display_data"
    }
   ],
   "source": [
    "display(iris.shape, iris[:5])"
   ]
  },
  {
   "cell_type": "code",
   "execution_count": 10,
   "metadata": {},
   "outputs": [],
   "source": [
    "X = iris[:,:4]\n",
    "y = iris[:,4]"
   ]
  },
  {
   "cell_type": "markdown",
   "metadata": {},
   "source": [
    "### 두 점 간의 거리 계산 공식\n",
    "$$ distance(x_1, x_2) = \\sqrt {\\sum_{i=0}^{N-1} (x_{1i} - x_{2i})^2},\\quad N = \\#\\ of\\ features $$"
   ]
  },
  {
   "cell_type": "code",
   "execution_count": 11,
   "metadata": {},
   "outputs": [
    {
     "data": {
      "text/plain": [
       "array([5.1, 3.5, 1.4, 0.2])"
      ]
     },
     "execution_count": 11,
     "metadata": {},
     "output_type": "execute_result"
    }
   ],
   "source": [
    "X[0]"
   ]
  },
  {
   "cell_type": "code",
   "execution_count": 12,
   "metadata": {},
   "outputs": [
    {
     "data": {
      "text/plain": [
       "array([4.9, 3. , 1.4, 0.2])"
      ]
     },
     "execution_count": 12,
     "metadata": {},
     "output_type": "execute_result"
    }
   ],
   "source": [
    "X[1]"
   ]
  },
  {
   "cell_type": "code",
   "execution_count": 13,
   "metadata": {},
   "outputs": [
    {
     "data": {
      "text/plain": [
       "0.5385164807134505"
      ]
     },
     "execution_count": 13,
     "metadata": {},
     "output_type": "execute_result"
    }
   ],
   "source": [
    "np.sqrt((0.2)**2 + (0.5)**2)"
   ]
  },
  {
   "cell_type": "code",
   "execution_count": 14,
   "metadata": {},
   "outputs": [
    {
     "data": {
      "text/plain": [
       "0.5385164807134502"
      ]
     },
     "execution_count": 14,
     "metadata": {},
     "output_type": "execute_result"
    }
   ],
   "source": [
    "np.sqrt(((X[0] - X[1])**2).sum())"
   ]
  },
  {
   "cell_type": "code",
   "execution_count": 15,
   "metadata": {
    "collapsed": true
   },
   "outputs": [
    {
     "data": {
      "text/plain": [
       "[0.0,\n",
       " 0.5385164807134502,\n",
       " 0.509901951359278,\n",
       " 0.648074069840786,\n",
       " 0.1414213562373093,\n",
       " 0.6164414002968979,\n",
       " 0.5196152422706632,\n",
       " 0.17320508075688762,\n",
       " 0.9219544457292882,\n",
       " 0.4690415759823426,\n",
       " 0.37416573867739483,\n",
       " 0.3741657386773941,\n",
       " 0.5916079783099616,\n",
       " 0.9949874371066197,\n",
       " 0.8831760866327848,\n",
       " 1.1045361017187267,\n",
       " 0.5477225575051664,\n",
       " 0.09999999999999998,\n",
       " 0.7416198487095667,\n",
       " 0.33166247903553986,\n",
       " 0.4358898943540679,\n",
       " 0.30000000000000016,\n",
       " 0.648074069840786,\n",
       " 0.46904157598234303,\n",
       " 0.5916079783099616,\n",
       " 0.5477225575051662,\n",
       " 0.316227766016838,\n",
       " 0.14142135623730995,\n",
       " 0.14142135623730995,\n",
       " 0.53851648071345,\n",
       " 0.5385164807134504,\n",
       " 0.3872983346207423,\n",
       " 0.6244997998398396,\n",
       " 0.8062257748298554,\n",
       " 0.4690415759823426,\n",
       " 0.37416573867739383,\n",
       " 0.41231056256176635,\n",
       " 0.4690415759823426,\n",
       " 0.866025403784438,\n",
       " 0.14142135623730964,\n",
       " 0.17320508075688743,\n",
       " 1.3490737563232043,\n",
       " 0.7681145747868601,\n",
       " 0.45825756949558394,\n",
       " 0.6164414002968975,\n",
       " 0.5916079783099616,\n",
       " 0.3605551275463989,\n",
       " 0.58309518948453,\n",
       " 0.30000000000000027,\n",
       " 0.22360679774997896,\n",
       " 4.003748243833521,\n",
       " 3.6166282640050254,\n",
       " 4.164132562731403,\n",
       " 3.093541659651604,\n",
       " 3.792097045171708,\n",
       " 3.416138170507745,\n",
       " 3.7854986461495406,\n",
       " 2.345207879911715,\n",
       " 3.749666651850535,\n",
       " 2.8879058156387303,\n",
       " 2.703701166919155,\n",
       " 3.228002478313795,\n",
       " 3.146426544510455,\n",
       " 3.7,\n",
       " 2.5806975801127883,\n",
       " 3.627671429443412,\n",
       " 3.4351128074635335,\n",
       " 3.009983388658482,\n",
       " 3.7682887362833544,\n",
       " 2.882707061079915,\n",
       " 3.8535697735995385,\n",
       " 3.0757112998459397,\n",
       " 4.047221268969613,\n",
       " 3.6578682316343767,\n",
       " 3.416138170507745,\n",
       " 3.59722114972099,\n",
       " 4.047221268969612,\n",
       " 4.244997055358225,\n",
       " 3.531288716601915,\n",
       " 2.4939927826679855,\n",
       " 2.8178005607210745,\n",
       " 2.7018512172212596,\n",
       " 2.8948229652260253,\n",
       " 4.135214625627066,\n",
       " 3.411744421846396,\n",
       " 3.5199431813596087,\n",
       " 3.9115214431215897,\n",
       " 3.6180105030251095,\n",
       " 2.9999999999999996,\n",
       " 3.0215889859476257,\n",
       " 3.3120990323358397,\n",
       " 3.59583091927304,\n",
       " 3.0099833886584824,\n",
       " 2.387467277262665,\n",
       " 3.1527765540868895,\n",
       " 3.07408522978788,\n",
       " 3.1256999216175574,\n",
       " 3.3451457367355464,\n",
       " 2.0904544960366875,\n",
       " 3.057776970284131,\n",
       " 5.2848841046895245,\n",
       " 4.208325082500163,\n",
       " 5.301886456724625,\n",
       " 4.690415759823429,\n",
       " 5.056678751908213,\n",
       " 6.0950799830683104,\n",
       " 3.591656999213594,\n",
       " 5.636488268416782,\n",
       " 5.047771785649585,\n",
       " 5.639148871948673,\n",
       " 4.356604182158392,\n",
       " 4.519955751995809,\n",
       " 4.853864439804639,\n",
       " 4.190465367951393,\n",
       " 4.417012565071555,\n",
       " 4.626013402488151,\n",
       " 4.645427859734774,\n",
       " 6.240192304729079,\n",
       " 6.498461356351979,\n",
       " 4.141255848169732,\n",
       " 5.121523210920752,\n",
       " 4.028647415696738,\n",
       " 6.211280061307815,\n",
       " 4.109744517606904,\n",
       " 4.969909455915672,\n",
       " 5.31224999411737,\n",
       " 3.9774363602702683,\n",
       " 4.007492981902776,\n",
       " 4.840454524112379,\n",
       " 5.0970579749498635,\n",
       " 5.546169849544818,\n",
       " 6.014149981501959,\n",
       " 4.880573736764972,\n",
       " 4.160528812542944,\n",
       " 4.570557952810575,\n",
       " 5.788782255362521,\n",
       " 4.891829923454003,\n",
       " 4.606517122512408,\n",
       " 3.8961519477556315,\n",
       " 4.796873982084583,\n",
       " 5.0199601592044525,\n",
       " 4.636809247747852,\n",
       " 4.208325082500163,\n",
       " 5.2573757712379665,\n",
       " 5.136146415358503,\n",
       " 4.654030511288039,\n",
       " 4.27668095606862,\n",
       " 4.459820624195552,\n",
       " 4.650806381693394,\n",
       " 4.1400483088968905]"
      ]
     },
     "execution_count": 15,
     "metadata": {},
     "output_type": "execute_result"
    }
   ],
   "source": [
    "[np.sqrt(((X[0] - X[i])**2).sum()) for i in range(150)]"
   ]
  },
  {
   "cell_type": "code",
   "execution_count": 17,
   "metadata": {},
   "outputs": [
    {
     "data": {
      "text/plain": [
       "array([[ 0. ,  0. ,  0. ,  0. ],\n",
       "       [-0.2, -0.5,  0. ,  0. ],\n",
       "       [-0.4, -0.3, -0.1,  0. ],\n",
       "       [-0.5, -0.4,  0.1,  0. ],\n",
       "       [-0.1,  0.1,  0. ,  0. ],\n",
       "       [ 0.3,  0.4,  0.3,  0.2],\n",
       "       [-0.5, -0.1,  0. ,  0.1],\n",
       "       [-0.1, -0.1,  0.1,  0. ],\n",
       "       [-0.7, -0.6,  0. ,  0. ],\n",
       "       [-0.2, -0.4,  0.1, -0.1],\n",
       "       [ 0.3,  0.2,  0.1,  0. ],\n",
       "       [-0.3, -0.1,  0.2,  0. ],\n",
       "       [-0.3, -0.5,  0. , -0.1],\n",
       "       [-0.8, -0.5, -0.3, -0.1],\n",
       "       [ 0.7,  0.5, -0.2,  0. ],\n",
       "       [ 0.6,  0.9,  0.1,  0.2],\n",
       "       [ 0.3,  0.4, -0.1,  0.2],\n",
       "       [ 0. ,  0. ,  0. ,  0.1],\n",
       "       [ 0.6,  0.3,  0.3,  0.1],\n",
       "       [ 0. ,  0.3,  0.1,  0.1],\n",
       "       [ 0.3, -0.1,  0.3,  0. ],\n",
       "       [ 0. ,  0.2,  0.1,  0.2],\n",
       "       [-0.5,  0.1, -0.4,  0. ],\n",
       "       [ 0. , -0.2,  0.3,  0.3],\n",
       "       [-0.3, -0.1,  0.5,  0. ],\n",
       "       [-0.1, -0.5,  0.2,  0. ],\n",
       "       [-0.1, -0.1,  0.2,  0.2],\n",
       "       [ 0.1,  0. ,  0.1,  0. ],\n",
       "       [ 0.1, -0.1,  0. ,  0. ],\n",
       "       [-0.4, -0.3,  0.2,  0. ],\n",
       "       [-0.3, -0.4,  0.2,  0. ],\n",
       "       [ 0.3, -0.1,  0.1,  0.2],\n",
       "       [ 0.1,  0.6,  0.1, -0.1],\n",
       "       [ 0.4,  0.7,  0. ,  0. ],\n",
       "       [-0.2, -0.4,  0.1, -0.1],\n",
       "       [-0.1, -0.3, -0.2,  0. ],\n",
       "       [ 0.4,  0. , -0.1,  0. ],\n",
       "       [-0.2, -0.4,  0.1, -0.1],\n",
       "       [-0.7, -0.5, -0.1,  0. ],\n",
       "       [ 0. , -0.1,  0.1,  0. ],\n",
       "       [-0.1,  0. , -0.1,  0.1],\n",
       "       [-0.6, -1.2, -0.1,  0.1],\n",
       "       [-0.7, -0.3, -0.1,  0. ],\n",
       "       [-0.1,  0. ,  0.2,  0.4],\n",
       "       [ 0. ,  0.3,  0.5,  0.2],\n",
       "       [-0.3, -0.5,  0. ,  0.1],\n",
       "       [ 0. ,  0.3,  0.2,  0. ],\n",
       "       [-0.5, -0.3,  0. ,  0. ],\n",
       "       [ 0.2,  0.2,  0.1,  0. ],\n",
       "       [-0.1, -0.2,  0. ,  0. ],\n",
       "       [ 1.9, -0.3,  3.3,  1.2],\n",
       "       [ 1.3, -0.3,  3.1,  1.3],\n",
       "       [ 1.8, -0.4,  3.5,  1.3],\n",
       "       [ 0.4, -1.2,  2.6,  1.1],\n",
       "       [ 1.4, -0.7,  3.2,  1.3],\n",
       "       [ 0.6, -0.7,  3.1,  1.1],\n",
       "       [ 1.2, -0.2,  3.3,  1.4],\n",
       "       [-0.2, -1.1,  1.9,  0.8],\n",
       "       [ 1.5, -0.6,  3.2,  1.1],\n",
       "       [ 0.1, -0.8,  2.5,  1.2],\n",
       "       [-0.1, -1.5,  2.1,  0.8],\n",
       "       [ 0.8, -0.5,  2.8,  1.3],\n",
       "       [ 0.9, -1.3,  2.6,  0.8],\n",
       "       [ 1. , -0.6,  3.3,  1.2],\n",
       "       [ 0.5, -0.6,  2.2,  1.1],\n",
       "       [ 1.6, -0.4,  3. ,  1.2],\n",
       "       [ 0.5, -0.5,  3.1,  1.3],\n",
       "       [ 0.7, -0.8,  2.7,  0.8],\n",
       "       [ 1.1, -1.3,  3.1,  1.3],\n",
       "       [ 0.5, -1. ,  2.5,  0.9],\n",
       "       [ 0.8, -0.3,  3.4,  1.6],\n",
       "       [ 1. , -0.7,  2.6,  1.1],\n",
       "       [ 1.2, -1. ,  3.5,  1.3],\n",
       "       [ 1. , -0.7,  3.3,  1. ],\n",
       "       [ 1.3, -0.6,  2.9,  1.1],\n",
       "       [ 1.5, -0.5,  3. ,  1.2],\n",
       "       [ 1.7, -0.7,  3.4,  1.2],\n",
       "       [ 1.6, -0.5,  3.6,  1.5],\n",
       "       [ 0.9, -0.6,  3.1,  1.3],\n",
       "       [ 0.6, -0.9,  2.1,  0.8],\n",
       "       [ 0.4, -1.1,  2.4,  0.9],\n",
       "       [ 0.4, -1.1,  2.3,  0.8],\n",
       "       [ 0.7, -0.8,  2.5,  1. ],\n",
       "       [ 0.9, -0.8,  3.7,  1.4],\n",
       "       [ 0.3, -0.5,  3.1,  1.3],\n",
       "       [ 0.9, -0.1,  3.1,  1.4],\n",
       "       [ 1.6, -0.4,  3.3,  1.3],\n",
       "       [ 1.2, -1.2,  3. ,  1.1],\n",
       "       [ 0.5, -0.5,  2.7,  1.1],\n",
       "       [ 0.4, -1. ,  2.6,  1.1],\n",
       "       [ 0.4, -0.9,  3. ,  1. ],\n",
       "       [ 1. , -0.5,  3.2,  1.2],\n",
       "       [ 0.7, -0.9,  2.6,  1. ],\n",
       "       [-0.1, -1.2,  1.9,  0.8],\n",
       "       [ 0.5, -0.8,  2.8,  1.1],\n",
       "       [ 0.6, -0.5,  2.8,  1. ],\n",
       "       [ 0.6, -0.6,  2.8,  1.1],\n",
       "       [ 1.1, -0.6,  2.9,  1.1],\n",
       "       [ 0. , -1. ,  1.6,  0.9],\n",
       "       [ 0.6, -0.7,  2.7,  1.1],\n",
       "       [ 1.2, -0.2,  4.6,  2.3],\n",
       "       [ 0.7, -0.8,  3.7,  1.7],\n",
       "       [ 2. , -0.5,  4.5,  1.9],\n",
       "       [ 1.2, -0.6,  4.2,  1.6],\n",
       "       [ 1.4, -0.5,  4.4,  2. ],\n",
       "       [ 2.5, -0.5,  5.2,  1.9],\n",
       "       [-0.2, -1. ,  3.1,  1.5],\n",
       "       [ 2.2, -0.6,  4.9,  1.6],\n",
       "       [ 1.6, -1. ,  4.4,  1.6],\n",
       "       [ 2.1,  0.1,  4.7,  2.3],\n",
       "       [ 1.4, -0.3,  3.7,  1.8],\n",
       "       [ 1.3, -0.8,  3.9,  1.7],\n",
       "       [ 1.7, -0.5,  4.1,  1.9],\n",
       "       [ 0.6, -1. ,  3.6,  1.8],\n",
       "       [ 0.7, -0.7,  3.7,  2.2],\n",
       "       [ 1.3, -0.3,  3.9,  2.1],\n",
       "       [ 1.4, -0.5,  4.1,  1.6],\n",
       "       [ 2.6,  0.3,  5.3,  2. ],\n",
       "       [ 2.6, -0.9,  5.5,  2.1],\n",
       "       [ 0.9, -1.3,  3.6,  1.3],\n",
       "       [ 1.8, -0.3,  4.3,  2.1],\n",
       "       [ 0.5, -0.7,  3.5,  1.8],\n",
       "       [ 2.6, -0.7,  5.3,  1.8],\n",
       "       [ 1.2, -0.8,  3.5,  1.6],\n",
       "       [ 1.6, -0.2,  4.3,  1.9],\n",
       "       [ 2.1, -0.3,  4.6,  1.6],\n",
       "       [ 1.1, -0.7,  3.4,  1.6],\n",
       "       [ 1. , -0.5,  3.5,  1.6],\n",
       "       [ 1.3, -0.7,  4.2,  1.9],\n",
       "       [ 2.1, -0.5,  4.4,  1.4],\n",
       "       [ 2.3, -0.7,  4.7,  1.7],\n",
       "       [ 2.8,  0.3,  5. ,  1.8],\n",
       "       [ 1.3, -0.7,  4.2,  2. ],\n",
       "       [ 1.2, -0.7,  3.7,  1.3],\n",
       "       [ 1. , -0.9,  4.2,  1.2],\n",
       "       [ 2.6, -0.5,  4.7,  2.1],\n",
       "       [ 1.2, -0.1,  4.2,  2.2],\n",
       "       [ 1.3, -0.4,  4.1,  1.6],\n",
       "       [ 0.9, -0.5,  3.4,  1.6],\n",
       "       [ 1.8, -0.4,  4. ,  1.9],\n",
       "       [ 1.6, -0.4,  4.2,  2.2],\n",
       "       [ 1.8, -0.4,  3.7,  2.1],\n",
       "       [ 0.7, -0.8,  3.7,  1.7],\n",
       "       [ 1.7, -0.3,  4.5,  2.1],\n",
       "       [ 1.6, -0.2,  4.3,  2.3],\n",
       "       [ 1.6, -0.5,  3.8,  2.1],\n",
       "       [ 1.2, -1. ,  3.6,  1.7],\n",
       "       [ 1.4, -0.5,  3.8,  1.8],\n",
       "       [ 1.1, -0.1,  4. ,  2.1],\n",
       "       [ 0.8, -0.5,  3.7,  1.6]])"
      ]
     },
     "execution_count": 17,
     "metadata": {},
     "output_type": "execute_result"
    }
   ],
   "source": [
    "X-X[0]"
   ]
  },
  {
   "cell_type": "code",
   "execution_count": 24,
   "metadata": {},
   "outputs": [],
   "source": [
    "setosa = X[:50]\n",
    "sm = setosa.mean(axis=0)"
   ]
  },
  {
   "cell_type": "code",
   "execution_count": 25,
   "metadata": {},
   "outputs": [],
   "source": [
    "d = np.sqrt(((X - sm)**2).sum(axis=1))"
   ]
  },
  {
   "cell_type": "code",
   "execution_count": 26,
   "metadata": {},
   "outputs": [
    {
     "data": {
      "text/plain": [
       "[<matplotlib.lines.Line2D at 0x15419ded240>]"
      ]
     },
     "execution_count": 26,
     "metadata": {},
     "output_type": "execute_result"
    },
    {
     "data": {
      "image/png": "[encoded data removed]",
      "text/plain": [
       "<Figure size 432x288 with 1 Axes>"
      ]
     },
     "metadata": {
      "needs_background": "light"
     },
     "output_type": "display_data"
    }
   ],
   "source": [
    "plt.plot(d, 'ro-')"
   ]
  },
  {
   "cell_type": "code",
   "execution_count": 21,
   "metadata": {},
   "outputs": [
    {
     "data": {
      "text/plain": [
       "[<matplotlib.lines.Line2D at 0x15419d310b8>]"
      ]
     },
     "execution_count": 21,
     "metadata": {},
     "output_type": "execute_result"
    },
    {
     "data": {
      "image/png": "[encoded data removed]",
      "text/plain": [
       "<Figure size 432x288 with 1 Axes>"
      ]
     },
     "metadata": {
      "needs_background": "light"
     },
     "output_type": "display_data"
    }
   ],
   "source": [
    "plt.plot(X[:,0], 'ro-')"
   ]
  },
  {
   "cell_type": "code",
   "execution_count": null,
   "metadata": {},
   "outputs": [],
   "source": []
  },
  {
   "cell_type": "code",
   "execution_count": null,
   "metadata": {},
   "outputs": [],
   "source": []
  },
  {
   "cell_type": "code",
   "execution_count": 8,
   "metadata": {},
   "outputs": [
    {
     "data": {
      "text/plain": [
       "array([5.1, 3.5, 1.4, 0.2])"
      ]
     },
     "metadata": {},
     "output_type": "display_data"
    },
    {
     "data": {
      "text/plain": [
       "array([5. , 3.3, 1.4, 0.2])"
      ]
     },
     "metadata": {},
     "output_type": "display_data"
    },
    {
     "data": {
      "text/plain": [
       "0.22360679774997896"
      ]
     },
     "execution_count": 8,
     "metadata": {},
     "output_type": "execute_result"
    }
   ],
   "source": [
    "x1 = X[0]\n",
    "x2 = X[49]\n",
    "display(x1, x2)\n",
    "\n",
    "distance = np.sqrt(((x1-x2)**2).sum())\n",
    "distance"
   ]
  },
  {
   "cell_type": "code",
   "execution_count": 8,
   "metadata": {
    "scrolled": true
   },
   "outputs": [
    {
     "data": {
      "text/plain": [
       "array([5.1, 3.5])"
      ]
     },
     "metadata": {},
     "output_type": "display_data"
    },
    {
     "data": {
      "text/plain": [
       "array([4.9, 3. ])"
      ]
     },
     "metadata": {},
     "output_type": "display_data"
    },
    {
     "data": {
      "text/plain": [
       "(4.890000000000001, 5.109999999999999, 2.975, 3.525)"
      ]
     },
     "execution_count": 8,
     "metadata": {},
     "output_type": "execute_result"
    },
    {
     "data": {
      "image/png": "[encoded data removed]",
      "text/plain": [
       "<Figure size 432x288 with 1 Axes>"
      ]
     },
     "metadata": {
      "needs_background": "light"
     },
     "output_type": "display_data"
    }
   ],
   "source": [
    "x1 = x1[:2]\n",
    "x2 = x2[:2]\n",
    "\n",
    "display(x1, x2)\n",
    "plt.plot([x1[0],x2[0]], [x1[1],x2[1]], 'bo--')\n",
    "plt.axis('equal')"
   ]
  },
  {
   "cell_type": "code",
   "execution_count": 9,
   "metadata": {},
   "outputs": [
    {
     "data": {
      "text/plain": [
       "0.5385164807134502"
      ]
     },
     "execution_count": 9,
     "metadata": {},
     "output_type": "execute_result"
    }
   ],
   "source": [
    "distance = np.sqrt(((x1-x2)**2).sum())\n",
    "distance"
   ]
  },
  {
   "cell_type": "markdown",
   "metadata": {},
   "source": [
    "### 한점과 다른 모든 점들 간의 거리 계산"
   ]
  },
  {
   "cell_type": "code",
   "execution_count": 9,
   "metadata": {},
   "outputs": [
    {
     "data": {
      "text/plain": [
       "[0.0,\n",
       " 0.5385164807134502,\n",
       " 0.509901951359278,\n",
       " 0.648074069840786,\n",
       " 0.1414213562373093,\n",
       " 0.6164414002968979,\n",
       " 0.5196152422706632,\n",
       " 0.17320508075688762,\n",
       " 0.9219544457292882,\n",
       " 0.4690415759823426,\n",
       " 0.37416573867739483,\n",
       " 0.3741657386773941,\n",
       " 0.5916079783099616,\n",
       " 0.9949874371066197,\n",
       " 0.8831760866327848,\n",
       " 1.1045361017187267,\n",
       " 0.5477225575051664,\n",
       " 0.09999999999999998,\n",
       " 0.7416198487095667,\n",
       " 0.33166247903553986,\n",
       " 0.4358898943540679,\n",
       " 0.30000000000000016,\n",
       " 0.648074069840786,\n",
       " 0.46904157598234303,\n",
       " 0.5916079783099616,\n",
       " 0.5477225575051662,\n",
       " 0.316227766016838,\n",
       " 0.14142135623730995,\n",
       " 0.14142135623730995,\n",
       " 0.53851648071345,\n",
       " 0.5385164807134504,\n",
       " 0.3872983346207423,\n",
       " 0.6244997998398396,\n",
       " 0.8062257748298554,\n",
       " 0.4690415759823426,\n",
       " 0.37416573867739383,\n",
       " 0.41231056256176635,\n",
       " 0.4690415759823426,\n",
       " 0.866025403784438,\n",
       " 0.14142135623730964,\n",
       " 0.17320508075688743,\n",
       " 1.3490737563232043,\n",
       " 0.7681145747868601,\n",
       " 0.45825756949558394,\n",
       " 0.6164414002968975,\n",
       " 0.5916079783099616,\n",
       " 0.3605551275463989,\n",
       " 0.58309518948453,\n",
       " 0.30000000000000027,\n",
       " 0.22360679774997896,\n",
       " 4.003748243833521,\n",
       " 3.6166282640050254,\n",
       " 4.164132562731403,\n",
       " 3.093541659651604,\n",
       " 3.792097045171708,\n",
       " 3.416138170507745,\n",
       " 3.7854986461495406,\n",
       " 2.345207879911715,\n",
       " 3.749666651850535,\n",
       " 2.8879058156387303,\n",
       " 2.703701166919155,\n",
       " 3.228002478313795,\n",
       " 3.146426544510455,\n",
       " 3.7,\n",
       " 2.5806975801127883,\n",
       " 3.627671429443412,\n",
       " 3.4351128074635335,\n",
       " 3.009983388658482,\n",
       " 3.7682887362833544,\n",
       " 2.882707061079915,\n",
       " 3.8535697735995385,\n",
       " 3.0757112998459397,\n",
       " 4.047221268969613,\n",
       " 3.6578682316343767,\n",
       " 3.416138170507745,\n",
       " 3.59722114972099,\n",
       " 4.047221268969612,\n",
       " 4.244997055358225,\n",
       " 3.531288716601915,\n",
       " 2.4939927826679855,\n",
       " 2.8178005607210745,\n",
       " 2.7018512172212596,\n",
       " 2.8948229652260253,\n",
       " 4.135214625627066,\n",
       " 3.411744421846396,\n",
       " 3.5199431813596087,\n",
       " 3.9115214431215897,\n",
       " 3.6180105030251095,\n",
       " 2.9999999999999996,\n",
       " 3.0215889859476257,\n",
       " 3.3120990323358397,\n",
       " 3.59583091927304,\n",
       " 3.0099833886584824,\n",
       " 2.387467277262665,\n",
       " 3.1527765540868895,\n",
       " 3.07408522978788,\n",
       " 3.1256999216175574,\n",
       " 3.3451457367355464,\n",
       " 2.0904544960366875,\n",
       " 3.057776970284131,\n",
       " 5.2848841046895245,\n",
       " 4.208325082500163,\n",
       " 5.301886456724625,\n",
       " 4.690415759823429,\n",
       " 5.056678751908213,\n",
       " 6.0950799830683104,\n",
       " 3.591656999213594,\n",
       " 5.636488268416782,\n",
       " 5.047771785649585,\n",
       " 5.639148871948673,\n",
       " 4.356604182158392,\n",
       " 4.519955751995809,\n",
       " 4.853864439804639,\n",
       " 4.190465367951393,\n",
       " 4.417012565071555,\n",
       " 4.626013402488151,\n",
       " 4.645427859734774,\n",
       " 6.240192304729079,\n",
       " 6.498461356351979,\n",
       " 4.141255848169732,\n",
       " 5.121523210920752,\n",
       " 4.028647415696738,\n",
       " 6.211280061307815,\n",
       " 4.109744517606904,\n",
       " 4.969909455915672,\n",
       " 5.31224999411737,\n",
       " 3.9774363602702683,\n",
       " 4.007492981902776,\n",
       " 4.840454524112379,\n",
       " 5.0970579749498635,\n",
       " 5.546169849544818,\n",
       " 6.014149981501959,\n",
       " 4.880573736764972,\n",
       " 4.160528812542944,\n",
       " 4.570557952810575,\n",
       " 5.788782255362521,\n",
       " 4.891829923454003,\n",
       " 4.606517122512408,\n",
       " 3.8961519477556315,\n",
       " 4.796873982084583,\n",
       " 5.0199601592044525,\n",
       " 4.636809247747852,\n",
       " 4.208325082500163,\n",
       " 5.2573757712379665,\n",
       " 5.136146415358503,\n",
       " 4.654030511288039,\n",
       " 4.27668095606862,\n",
       " 4.459820624195552,\n",
       " 4.650806381693394,\n",
       " 4.1400483088968905]"
      ]
     },
     "execution_count": 9,
     "metadata": {},
     "output_type": "execute_result"
    }
   ],
   "source": [
    "distances = []\n",
    "for i in range(150):\n",
    "    n = np.sqrt(((X[0]-X[i])**2).sum()) # x0 와 X[i] 간의 거리\n",
    "    distances.append(n)\n",
    "distances"
   ]
  },
  {
   "cell_type": "code",
   "execution_count": 10,
   "metadata": {},
   "outputs": [
    {
     "data": {
      "text/plain": [
       "[<matplotlib.lines.Line2D at 0x1a3bd00c0f0>]"
      ]
     },
     "execution_count": 10,
     "metadata": {},
     "output_type": "execute_result"
    },
    {
     "data": {
      "image/png": "[encoded data removed]",
      "text/plain": [
       "<Figure size 432x288 with 1 Axes>"
      ]
     },
     "metadata": {
      "needs_background": "light"
     },
     "output_type": "display_data"
    }
   ],
   "source": [
    "plt.plot(distances)"
   ]
  },
  {
   "cell_type": "code",
   "execution_count": null,
   "metadata": {},
   "outputs": [],
   "source": []
  },
  {
   "cell_type": "code",
   "execution_count": null,
   "metadata": {},
   "outputs": [],
   "source": []
  },
  {
   "cell_type": "code",
   "execution_count": 11,
   "metadata": {},
   "outputs": [
    {
     "data": {
      "text/plain": [
       "array([0.        , 0.53851648, 0.50990195, 0.64807407, 0.14142136])"
      ]
     },
     "execution_count": 11,
     "metadata": {},
     "output_type": "execute_result"
    }
   ],
   "source": [
    "distance = np.sqrt(((X - X[0])**2).sum(axis=1))\n",
    "distance[:5]"
   ]
  },
  {
   "cell_type": "code",
   "execution_count": 25,
   "metadata": {},
   "outputs": [
    {
     "data": {
      "text/plain": [
       "Text(0.5,1,'distances from X[0]')"
      ]
     },
     "execution_count": 25,
     "metadata": {},
     "output_type": "execute_result"
    },
    {
     "data": {
      "image/png": "[encoded data removed]",
      "text/plain": [
       "<Figure size 720x288 with 1 Axes>"
      ]
     },
     "metadata": {
      "needs_background": "light"
     },
     "output_type": "display_data"
    }
   ],
   "source": [
    "plt.figure(figsize=[10,4])\n",
    "plt.plot(distance, 'bo-')\n",
    "plt.xlabel('samples', fontsize=15)\n",
    "plt.ylabel('distance', fontsize=15)\n",
    "plt.xticks(range(0,151,25), [0, 'Setosa', 50, 'Versicolor', 75, 'Virginica', 150])\n",
    "plt.yticks(range(0,8))\n",
    "plt.grid()\n",
    "# plt.vlines([50,100], 0, 10, linestyles='dotted')\n",
    "plt.title('distances from X[0]', fontsize=20)"
   ]
  }
 ],
 "metadata": {
  "kernelspec": {
   "display_name": "Python 3",
   "language": "python",
   "name": "python3"
  },
  "language_info": {
   "codemirror_mode": {
    "name": "ipython",
    "version": 3
   },
   "file_extension": ".py",
   "mimetype": "text/x-python",
   "name": "python",
   "nbconvert_exporter": "python",
   "pygments_lexer": "ipython3",
   "version": "3.7.0"
  }
 },
 "nbformat": 4,
 "nbformat_minor": 2
}
